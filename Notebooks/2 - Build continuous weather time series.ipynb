{
 "cells": [
  {
   "cell_type": "code",
   "execution_count": 13,
   "metadata": {},
   "outputs": [],
   "source": [
    "import pandas as pd\n",
    "import numpy as np\n",
    "from matplotlib import pyplot as plt\n",
    "\n",
    "import os\n",
    "from IPython.display import clear_output\n",
    "\n",
    "from kpmb_weather import find_stations, get_id\n",
    "\n",
    "delta_elev_m = 100 # maximum allowed difference between lake and weather station elevation\n",
    "\n",
    "delta_elev_ft = delta_elev_m*3.28084 # 100 metres converted to feet\n",
    "\n",
    "nlakes = 100\n",
    "\n",
    "volume = 'Data'\n",
    "volume = 'My Passport for Mac'\n",
    "dftopN = pd.read_csv(f'/Volumes/{volume}/IceModels/topUSlakes.csv')\n",
    "\n",
    "dfstations = pd.read_csv(f'/Volumes/{volume}/IceModels/topUSlakes_weather_stations.csv')"
   ]
  },
  {
   "cell_type": "markdown",
   "metadata": {},
   "source": [
    "Look for and remove stations that do not contain any temperature information"
   ]
  },
  {
   "cell_type": "code",
   "execution_count": 14,
   "metadata": {},
   "outputs": [
    {
     "name": "stdout",
     "output_type": "stream",
     "text": [
      "3012/3012\n"
     ]
    }
   ],
   "source": [
    "for i,c in enumerate(dfstations.GHCND_ID.unique()):\n",
    "    clear_output(wait=True)\n",
    "    print(f\"{i+1:4d}/{len(dfstations.GHCND_ID.unique())}\")\n",
    "    try:\n",
    "        df_ = pd.read_csv(f'/Volumes/{volume}/WeatherData/NOAA/csv/{c}.csv')\n",
    "        # look for stations that are missing temperature data\n",
    "        if len(df_.dropna(how='all',axis=1).columns.intersection(['TMIN','TMAX','TAVG']))==0:\n",
    "            dfstations.loc[dfstations.GHCND_ID==c,'temperature'] = False\n",
    "        else:\n",
    "            dfstations.loc[dfstations.GHCND_ID==c,'temperature'] = True\n",
    "    except:\n",
    "        continue"
   ]
  },
  {
   "cell_type": "code",
   "execution_count": 26,
   "metadata": {},
   "outputs": [],
   "source": [
    "from importlib import reload\n",
    "import kpmb_weather\n",
    "reload(kpmb_weather)\n",
    "from kpmb_weather import find_stations,get_id"
   ]
  },
  {
   "cell_type": "code",
   "execution_count": 16,
   "metadata": {},
   "outputs": [],
   "source": [
    "dfstations_temp = dfstations[dfstations.temperature==True]\n",
    "#dfstations_temp"
   ]
  },
  {
   "cell_type": "markdown",
   "metadata": {},
   "source": [
    "Build weather time series based on availability of TMINMAX (i.e., TMIN, TMAX and TAVG data).\n",
    "- **NEW FEB 10 2022** All data in a given row is from the same weather station."
   ]
  },
  {
   "cell_type": "code",
   "execution_count": 28,
   "metadata": {},
   "outputs": [
    {
     "name": "stdout",
     "output_type": "stream",
     "text": [
      "100/100 - xKB1987\n"
     ]
    }
   ],
   "source": [
    "dfworking = pd.DataFrame()\n",
    "#dfworking_station = pd.DataFrame()\n",
    "\n",
    "# run through list of lakes\n",
    "for i,row in dftopN.iterrows():\n",
    "\n",
    "    #if row.lakecode != \"LR1\":\n",
    "    #    continue\n",
    "    clear_output(wait=True)\n",
    "    print(f\"{i+1:2d}/100 - {row.lakecode}\")\n",
    "    lat,lon = row.lat, row.lon\n",
    "\n",
    "    elevation = row.Elevation *3.28084 # convert to feet since stations are in feet\n",
    "\n",
    "    start_date = f'1 January {row.start_date}'\n",
    "    end_date = f'31 December {row.end_date}'\n",
    "\n",
    "    # finds stations within 50 km\n",
    "    stations,_,distances = find_stations(lat,lon,dfstations_temp,\n",
    "                                         verbose=False,\n",
    "                      dist=50,elev=elevation, d_elev=delta_elev_ft,\n",
    "                      start_date=start_date,end_date=end_date)\n",
    "    # stations is a dictionary of {station_number: [list of timestamps]}\n",
    "    \n",
    "    # get list of station ID from closest to furthest\n",
    "    other_stations = get_id(lat,lon, dfstations_temp, dist=50,elev=elevation,\n",
    "                            d_elev=delta_elev_ft,getid='GHCND_ID')\n",
    "\n",
    "    # start to build up time series\n",
    "    df_lakecode = pd.DataFrame(index=pd.date_range(start_date,end_date))\n",
    "    \n",
    "    # cycles from most to least coverage (but no specific mention of TMIN or TMAX) \n",
    "    #     so could be most SNOW coverage perhaps...\n",
    "    for key,value in stations.items():\n",
    "        # key is station number NCDCSTN_ID\n",
    "        # value is list of dates\n",
    "        \n",
    "        #d1min = min(d1).strftime('%Y-%m-%d')\n",
    "        #d1max = max(d1).strftime('%Y-%m-%d')\n",
    "        ghcnd_id = dfstations_temp[dfstations_temp.NCDCSTN_ID==key].GHCND_ID.dropna().unique()\n",
    "        \n",
    "        \n",
    "        for ghcnd in ghcnd_id:\n",
    "            # read in data from file (all data gets read in)\n",
    "            filename = f'/Volumes/{volume}/WeatherData/NOAA/csv/{ghcnd}.csv'\n",
    "            try:\n",
    "                dfoo = pd.read_csv(filename)\n",
    "            except:\n",
    "                print('file not found error.')\n",
    "                continue\n",
    "            dfoo = dfoo.set_index('DATE')\n",
    "            dfoo.index = pd.to_datetime(dfoo.index)\n",
    "            \n",
    "            # check quality attributes and remove bad data\n",
    "            for var in ['TMIN','TMAX','TAVG']:\n",
    "                dfoo[var] = dfoo[var].astype(float)\n",
    "                ind_flag = ~dfoo[f'{var}_ATTRIBUTES'].astype(str).str.split(',').str[1].astype(str).str.strip().isin(['','nan'])\n",
    "                dfoo.loc[ind_flag,var] = np.nan\n",
    "            \n",
    "            dfoo['TMINMAX'] = (dfoo['TMIN'] + dfoo['TMAX'])/2.\n",
    "            ind = dfoo.TMINMAX.isnull() & ~dfoo.TAVG.isnull()\n",
    "            dfoo.loc[ind,'TMINMAX'] = dfoo.loc[ind,'TAVG'].copy()\n",
    "            \n",
    "            station = dfoo.STATION.drop_duplicates().tolist()[0]\n",
    "            # fills in blanks with data from other stations\n",
    "            \n",
    "            if df_lakecode.shape[1]==0:\n",
    "                df_lakecode = df_lakecode.merge(dfoo,left_index=True,right_index=True, how='left')\n",
    "                #df_station_record = df_lakecode.astype(str).copy()\n",
    "                #df_station_record[df_station_record!='nan'] = station\n",
    "            \n",
    "                df_lakecode['TMINMAX'] = (df_lakecode['TMIN']+ df_lakecode['TMAX'])/2.\n",
    "                ind = df_lakecode.TMINMAX.isnull() & ~df_lakecode.TAVG.isnull()\n",
    "                df_lakecode.loc[ind,'TMINMAX'] = df_lakecode.loc[ind,'TAVG'].copy()\n",
    "            \n",
    "            else:\n",
    "                # [old version]\n",
    "                # df_lakecode= df_lakecode.fillna(dfoo)\n",
    "                \n",
    "                # fill in where TMINMAX is null\n",
    "                ind_rows = df_lakecode.TMINMAX.isnull() & ~dfoo.TMINMAX.isnull()\n",
    "            \n",
    "                df_lakecode.loc[ind_rows,:] = dfoo.loc[ind_rows,:].copy()\n",
    "                \n",
    "                #ind_new = df_lakecode.isnull() & ~dfoo.isnull() #& (df_station_record=='nan')\n",
    "                #df_station_record[ind_new] = station\n",
    "                #\n",
    "    # now fillna using other_stations    \n",
    "    \n",
    "    for ghcnd in other_stations:\n",
    "        #print(ghcnd)\n",
    "        filename = f'/Volumes/{volume}/WeatherData/NOAA/csv/{ghcnd}.csv'\n",
    "        try:\n",
    "            dfoo = pd.read_csv(filename,low_memory=False)\n",
    "        \n",
    "        except:\n",
    "            print(ghcnd)\n",
    "            print('file not found error.')\n",
    "            continue\n",
    "        if len(dfoo)==0:\n",
    "            continue\n",
    "            \n",
    "        #print(ghcnd, dfoo.DATE.min(),dfoo.DATE.max())\n",
    "        dfoo = dfoo.set_index('DATE')\n",
    "        dfoo.index = pd.to_datetime(dfoo.index)\n",
    "        \n",
    "        # check quality attributes and remove bad data\n",
    "        for var in ['TMIN','TMAX','TAVG']:\n",
    "            dfoo[var] = dfoo[var].astype(float)\n",
    "            ind_flag = ~dfoo[f'{var}_ATTRIBUTES'].astype(str).str.split(',').str[1].astype(str).str.strip().isin(['','nan'])\n",
    "            dfoo.loc[ind_flag,var] = np.nan\n",
    "\n",
    "        dfoo['TMINMAX'] = (dfoo['TMIN'] + dfoo['TMAX'])/2.\n",
    "        ind = dfoo.TMINMAX.isnull() & ~dfoo.TAVG.isnull()\n",
    "        dfoo.loc[ind,'TMINMAX'] = dfoo.loc[ind,'TAVG'].copy()\n",
    "        \n",
    "        #station = dfoo.STATION.drop_duplicates().tolist()[0]\n",
    "        if df_lakecode.shape[1]==0:\n",
    "            df_lakecode = df_lakecode.merge(dfoo,left_index=True,right_index=True, how='left')\n",
    "            \n",
    "            df_lakecode['TMINMAX'] = (df_lakecode['TMIN']+ df_lakecode['TMAX'])/2.\n",
    "            ind = df_lakecode.TMINMAX.isnull() & ~df_lakecode.TAVG.isnull()\n",
    "            df_lakecode.loc[ind,'TMINMAX'] = df_lakecode.loc[ind,'TAVG'].copy()\n",
    "            \n",
    "            #df_station_record = df_lakecode.astype(str).copy()\n",
    "            #df_station_record[df_station_record!='nan'] = station\n",
    "        else:\n",
    "            # [old version] filling blanks with data from different stations; \n",
    "            # so SNOW and TMINMAX for example may be from\n",
    "            #     different stations... (record station!)\n",
    "            # df_lakecode= df_lakecode.fillna(dfoo)\n",
    "            \n",
    "            # consistently fill in data only if TMINMAX is missing\n",
    "            ind_rows = df_lakecode.TMINMAX.isnull() & ~dfoo.TMINMAX.isnull()\n",
    "            \n",
    "            df_lakecode.loc[ind_rows,:] = dfoo.loc[ind_rows,:].copy()\n",
    "            \n",
    "    #df_station_record['lakecode']= row.lakecode\n",
    "    #df_station_record['lake'] = row.lake\n",
    "    #df_station_record = df_station_record.reset_index().rename({'index':'DATE'},axis=1)\n",
    "    #dfworking_station = dfworking_station.append(df_station_record,ignore_index=True)\n",
    "    \n",
    "    df_lakecode['lakecode']= row.lakecode\n",
    "    df_lakecode['lake'] = row.lake\n",
    "    df_lakecode = df_lakecode.reset_index().rename({'index':'DATE'},axis=1)\n",
    "    dfworking = dfworking.append(df_lakecode,ignore_index=True)"
   ]
  },
  {
   "cell_type": "code",
   "execution_count": 23,
   "metadata": {},
   "outputs": [],
   "source": [
    "#dfworking.set_index('DATE').SNOW.plot()"
   ]
  },
  {
   "cell_type": "code",
   "execution_count": null,
   "metadata": {},
   "outputs": [],
   "source": [
    "#df00 = pd.read_csv('/Volumes/My Passport for Mac/WeatherData/NOAA/csv/USC00300379.csv')"
   ]
  },
  {
   "cell_type": "code",
   "execution_count": null,
   "metadata": {},
   "outputs": [],
   "source": [
    "#df00[df00.DATE=='1932-01-01'].dropna(how='all',axis=1)"
   ]
  },
  {
   "cell_type": "code",
   "execution_count": null,
   "metadata": {},
   "outputs": [],
   "source": [
    "#df_lakecode[~df_lakecode.TMINMAX.isnull()].set_index('DATE').STATION.unique()#['TMINMAX'].plot()\n",
    "#df_lakecode[df_lakecode.STATION=='USC00302780']"
   ]
  },
  {
   "cell_type": "code",
   "execution_count": null,
   "metadata": {},
   "outputs": [],
   "source": [
    "#dfstations[dfstations.GHCND_ID.isin(df_lakecode.dropna(how='all',axis=0).dropna(how='all',axis=1).STATION.unique())][['NCDCSTN_ID','GHCND_ID']].drop_duplicates()"
   ]
  },
  {
   "cell_type": "code",
   "execution_count": null,
   "metadata": {},
   "outputs": [],
   "source": [
    "#df_lakecode[df_lakecode.STATION.isin(['USW00014771','USC00300379'])]"
   ]
  },
  {
   "cell_type": "code",
   "execution_count": null,
   "metadata": {},
   "outputs": [],
   "source": [
    "#df_station_record[(df_station_record['TMAX']!= df_station_record['TMIN'])]"
   ]
  },
  {
   "cell_type": "code",
   "execution_count": 4,
   "metadata": {},
   "outputs": [],
   "source": [
    "#dfstations[dfstations.NCDCSTN_ID==20021025]"
   ]
  },
  {
   "cell_type": "markdown",
   "metadata": {},
   "source": [
    "### QA/QC\n",
    "\n",
    "List of variables:\n",
    "\n",
    "- (AWDR : wind direction)\n",
    "- AWND (m/s) : average daily wind speed\n",
    "- PRCP (mm): precipitation\n",
    "- SNOW (mm): snow\n",
    "- SNWD (mm): snow depth\n",
    "- TAVG (C): average temperature?\n",
    "- THIC (mm): thickness of ice on water\n",
    "- TMAX (C): maximum temperature\n",
    "- TMIN (C): minimum temperature\n",
    "- TOBS (C): temperature at the time of observation\n",
    "- TSUN (minutes): daily total sunshine\n",
    "\n",
    "Check attribute columns (Meas,Qual,Source,Time) and remove data with a non-blank Qual flag "
   ]
  },
  {
   "cell_type": "code",
   "execution_count": 29,
   "metadata": {},
   "outputs": [
    {
     "name": "stdout",
     "output_type": "stream",
     "text": [
      "AWND_ATTRIBUTES_QUALITY\n",
      "PRCP_ATTRIBUTES_QUALITY\n",
      "SNOW_ATTRIBUTES_QUALITY\n",
      "SNWD_ATTRIBUTES_QUALITY\n",
      "TAVG_ATTRIBUTES_QUALITY\n",
      "TMAX_ATTRIBUTES_QUALITY\n",
      "TMIN_ATTRIBUTES_QUALITY\n",
      "TOBS_ATTRIBUTES_QUALITY\n",
      "TSUN_ATTRIBUTES_QUALITY\n"
     ]
    }
   ],
   "source": [
    "dfresult = dfworking.copy()\n",
    "for c in dfworking.columns:\n",
    "    if 'ATTRIBUTES' in c:\n",
    "        if len(dfworking[c].dropna())>0:\n",
    "            new_c = f\"{c}_QUALITY\"\n",
    "            print(new_c)\n",
    "            \n",
    "            # Add new columns containing data quality flags only\n",
    "            dfresult[new_c] = dfworking[c].dropna().str.split(',').str[1]\n",
    "            dfresult[new_c] = dfresult[new_c].str.strip().replace('',np.nan)\n",
    "            \n",
    "            # Remove flagged data from table\n",
    "            ind = ~dfresult[new_c].isnull()\n",
    "            dfresult.loc[ind,c.replace('_ATTRIBUTES','')] = np.nan\n",
    "            "
   ]
  },
  {
   "cell_type": "markdown",
   "metadata": {},
   "source": [
    "Convert columns to float dtype, date and sort by lakecode and date"
   ]
  },
  {
   "cell_type": "code",
   "execution_count": 30,
   "metadata": {},
   "outputs": [
    {
     "name": "stdout",
     "output_type": "stream",
     "text": [
      "DATE\n",
      "STATION\n",
      "AWND_ATTRIBUTES\n",
      "PRCP_ATTRIBUTES\n",
      "SNOW_ATTRIBUTES\n",
      "SNWD_ATTRIBUTES\n",
      "TAVG_ATTRIBUTES\n",
      "TMAX_ATTRIBUTES\n",
      "TMIN_ATTRIBUTES\n",
      "TOBS_ATTRIBUTES\n",
      "TSUN_ATTRIBUTES\n",
      "lakecode\n",
      "lake\n",
      "AWND_ATTRIBUTES_QUALITY\n",
      "PRCP_ATTRIBUTES_QUALITY\n",
      "SNOW_ATTRIBUTES_QUALITY\n",
      "SNWD_ATTRIBUTES_QUALITY\n",
      "TAVG_ATTRIBUTES_QUALITY\n",
      "TMAX_ATTRIBUTES_QUALITY\n",
      "TMIN_ATTRIBUTES_QUALITY\n",
      "TOBS_ATTRIBUTES_QUALITY\n",
      "TSUN_ATTRIBUTES_QUALITY\n"
     ]
    }
   ],
   "source": [
    "for c in dfresult.columns:\n",
    "    try:\n",
    "        dfresult[c] = dfresult[c].astype(float)\n",
    "    except:\n",
    "        print(c)\n",
    "\n",
    "dfresult.DATE = pd.to_datetime(dfresult.DATE)\n",
    "\n",
    "dfresult = dfresult.sort_values(['lakecode','DATE'])"
   ]
  },
  {
   "cell_type": "markdown",
   "metadata": {},
   "source": [
    "### Calculate daily average temperatures\n",
    "\n",
    "$$T_{\\rm avg} = \\frac{T_{\\rm min}+T_{\\rm max}}{2}$$\n",
    "\n",
    "\n",
    "- fill in missing (or low quality) data with TAVG, if the value exists"
   ]
  },
  {
   "cell_type": "code",
   "execution_count": 31,
   "metadata": {},
   "outputs": [
    {
     "data": {
      "text/plain": [
       "Series([], Name: TMINMAX, dtype: float64)"
      ]
     },
     "metadata": {},
     "output_type": "display_data"
    }
   ],
   "source": [
    "dfresult['TMINMAX'] = (dfresult.TMIN + dfresult.TMAX)/2.\n",
    "\n",
    "# confirm that average is null where it should be\n",
    "ind = dfresult.TMIN.isnull() | dfresult.TMAX.isnull() \n",
    "\n",
    "display(dfresult.loc[ind,'TMINMAX'].dropna())\n",
    "\n",
    "dfresult.loc[ind,'TMINMAX'] = np.nan\n",
    "\n",
    "# fill in blanks with TAVG if it exists\n",
    "\n",
    "ind = dfresult.TMINMAX.isnull() & ~dfresult.TAVG.isnull()\n",
    "\n",
    "dfresult.loc[ind,'TMINMAX'] = dfresult.loc[ind,'TAVG']\n"
   ]
  },
  {
   "cell_type": "markdown",
   "metadata": {},
   "source": [
    "## Snow and precipitation\n",
    "\n",
    "1. How are snow and precipitation related?\n",
    "- it seems that they are independent\n",
    "- PRCP is \"rain, melted snow\"\n",
    "\n",
    "\n",
    "2. Check that it is cold enough for snow.\n"
   ]
  },
  {
   "cell_type": "code",
   "execution_count": 32,
   "metadata": {},
   "outputs": [
    {
     "data": {
      "text/plain": [
       "<AxesSubplot:xlabel='PRCP'>"
      ]
     },
     "execution_count": 32,
     "metadata": {},
     "output_type": "execute_result"
    },
    {
     "data": {
      "image/png": "[encoded data removed]",
      "text/plain": [
       "<Figure size 432x288 with 1 Axes>"
      ]
     },
     "metadata": {
      "needs_background": "light"
     },
     "output_type": "display_data"
    }
   ],
   "source": [
    "dfresult.plot(x='PRCP',y='SNOW',ls='none',marker='.')"
   ]
  },
  {
   "cell_type": "code",
   "execution_count": 40,
   "metadata": {},
   "outputs": [
    {
     "data": {
      "text/plain": [
       "Text(0.5, 0, 'Amount of snow fall (mm)')"
      ]
     },
     "execution_count": 40,
     "metadata": {},
     "output_type": "execute_result"
    },
    {
     "data": {
      "image/png": "[encoded data removed]",
      "text/plain": [
       "<Figure size 432x288 with 1 Axes>"
      ]
     },
     "metadata": {
      "needs_background": "light"
     },
     "output_type": "display_data"
    }
   ],
   "source": [
    "ind = (dfresult.SNOW>0) & (dfresult.TMINMAX>0)\n",
    "\n",
    "x = dfresult[ind].SNOW\n",
    "y = dfresult[ind].TMINMAX\n",
    "plt.plot(x,y, ls='none',marker='.')\n",
    "plt.ylabel('Temperature (\\N{DEGREE SIGN}C)')\n",
    "plt.xlabel('Amount of snow fall (mm)')"
   ]
  },
  {
   "cell_type": "code",
   "execution_count": 41,
   "metadata": {},
   "outputs": [],
   "source": [
    "#ind = (dfresult.TMINMAX>15) & (dfresult.SNOW > 0)\n",
    "#dfresult[ind].dropna(how='all',axis=1)"
   ]
  },
  {
   "cell_type": "code",
   "execution_count": 42,
   "metadata": {},
   "outputs": [
    {
     "data": {
      "text/html": [
       "<div>\n",
       "<style scoped>\n",
       "    .dataframe tbody tr th:only-of-type {\n",
       "        vertical-align: middle;\n",
       "    }\n",
       "\n",
       "    .dataframe tbody tr th {\n",
       "        vertical-align: top;\n",
       "    }\n",
       "\n",
       "    .dataframe thead th {\n",
       "        text-align: right;\n",
       "    }\n",
       "</style>\n",
       "<table border=\"1\" class=\"dataframe\">\n",
       "  <thead>\n",
       "    <tr style=\"text-align: right;\">\n",
       "      <th></th>\n",
       "      <th>AWDR</th>\n",
       "      <th>AWDR_ATTRIBUTES</th>\n",
       "      <th>AWND</th>\n",
       "      <th>PRCP</th>\n",
       "      <th>SNOW</th>\n",
       "      <th>SNWD</th>\n",
       "      <th>TAVG</th>\n",
       "      <th>THIC</th>\n",
       "      <th>THIC_ATTRIBUTES</th>\n",
       "      <th>TMAX</th>\n",
       "      <th>TMIN</th>\n",
       "      <th>TOBS</th>\n",
       "      <th>TSUN</th>\n",
       "      <th>TMINMAX</th>\n",
       "    </tr>\n",
       "  </thead>\n",
       "  <tbody>\n",
       "    <tr>\n",
       "      <th>count</th>\n",
       "      <td>0.0</td>\n",
       "      <td>0.0</td>\n",
       "      <td>161470.000000</td>\n",
       "      <td>2.615453e+06</td>\n",
       "      <td>2.332657e+06</td>\n",
       "      <td>2.000024e+06</td>\n",
       "      <td>64765.000000</td>\n",
       "      <td>0.0</td>\n",
       "      <td>0.0</td>\n",
       "      <td>2.675926e+06</td>\n",
       "      <td>2.676166e+06</td>\n",
       "      <td>2.161190e+06</td>\n",
       "      <td>135777.000000</td>\n",
       "      <td>2.674968e+06</td>\n",
       "    </tr>\n",
       "    <tr>\n",
       "      <th>mean</th>\n",
       "      <td>NaN</td>\n",
       "      <td>NaN</td>\n",
       "      <td>3.981785</td>\n",
       "      <td>2.289109e+00</td>\n",
       "      <td>4.469438e+00</td>\n",
       "      <td>6.069330e+01</td>\n",
       "      <td>7.698178</td>\n",
       "      <td>NaN</td>\n",
       "      <td>NaN</td>\n",
       "      <td>1.235803e+01</td>\n",
       "      <td>6.523249e-01</td>\n",
       "      <td>6.408547e+00</td>\n",
       "      <td>384.926468</td>\n",
       "      <td>6.506743e+00</td>\n",
       "    </tr>\n",
       "    <tr>\n",
       "      <th>std</th>\n",
       "      <td>NaN</td>\n",
       "      <td>NaN</td>\n",
       "      <td>1.679474</td>\n",
       "      <td>6.595064e+00</td>\n",
       "      <td>2.116437e+01</td>\n",
       "      <td>1.384310e+02</td>\n",
       "      <td>12.313990</td>\n",
       "      <td>NaN</td>\n",
       "      <td>NaN</td>\n",
       "      <td>1.282705e+01</td>\n",
       "      <td>1.217317e+01</td>\n",
       "      <td>1.286101e+01</td>\n",
       "      <td>299.124963</td>\n",
       "      <td>1.227200e+01</td>\n",
       "    </tr>\n",
       "    <tr>\n",
       "      <th>min</th>\n",
       "      <td>NaN</td>\n",
       "      <td>NaN</td>\n",
       "      <td>0.000000</td>\n",
       "      <td>0.000000e+00</td>\n",
       "      <td>0.000000e+00</td>\n",
       "      <td>0.000000e+00</td>\n",
       "      <td>-32.800000</td>\n",
       "      <td>NaN</td>\n",
       "      <td>NaN</td>\n",
       "      <td>-3.560000e+01</td>\n",
       "      <td>-5.110000e+01</td>\n",
       "      <td>-5.000000e+01</td>\n",
       "      <td>0.000000</td>\n",
       "      <td>-4.140000e+01</td>\n",
       "    </tr>\n",
       "    <tr>\n",
       "      <th>25%</th>\n",
       "      <td>NaN</td>\n",
       "      <td>NaN</td>\n",
       "      <td>2.800000</td>\n",
       "      <td>0.000000e+00</td>\n",
       "      <td>0.000000e+00</td>\n",
       "      <td>0.000000e+00</td>\n",
       "      <td>-1.100000</td>\n",
       "      <td>NaN</td>\n",
       "      <td>NaN</td>\n",
       "      <td>1.700000e+00</td>\n",
       "      <td>-7.200000e+00</td>\n",
       "      <td>-2.200000e+00</td>\n",
       "      <td>48.000000</td>\n",
       "      <td>-2.500000e+00</td>\n",
       "    </tr>\n",
       "    <tr>\n",
       "      <th>50%</th>\n",
       "      <td>NaN</td>\n",
       "      <td>NaN</td>\n",
       "      <td>3.800000</td>\n",
       "      <td>0.000000e+00</td>\n",
       "      <td>0.000000e+00</td>\n",
       "      <td>0.000000e+00</td>\n",
       "      <td>8.900000</td>\n",
       "      <td>NaN</td>\n",
       "      <td>NaN</td>\n",
       "      <td>1.330000e+01</td>\n",
       "      <td>1.700000e+00</td>\n",
       "      <td>6.700000e+00</td>\n",
       "      <td>411.000000</td>\n",
       "      <td>7.500000e+00</td>\n",
       "    </tr>\n",
       "    <tr>\n",
       "      <th>75%</th>\n",
       "      <td>NaN</td>\n",
       "      <td>NaN</td>\n",
       "      <td>5.100000</td>\n",
       "      <td>1.000000e+00</td>\n",
       "      <td>0.000000e+00</td>\n",
       "      <td>2.500000e+01</td>\n",
       "      <td>18.300000</td>\n",
       "      <td>NaN</td>\n",
       "      <td>NaN</td>\n",
       "      <td>2.390000e+01</td>\n",
       "      <td>1.060000e+01</td>\n",
       "      <td>1.670000e+01</td>\n",
       "      <td>643.000000</td>\n",
       "      <td>1.695000e+01</td>\n",
       "    </tr>\n",
       "    <tr>\n",
       "      <th>max</th>\n",
       "      <td>NaN</td>\n",
       "      <td>NaN</td>\n",
       "      <td>13.900000</td>\n",
       "      <td>2.781000e+02</td>\n",
       "      <td>9.140000e+02</td>\n",
       "      <td>2.134000e+03</td>\n",
       "      <td>32.200000</td>\n",
       "      <td>NaN</td>\n",
       "      <td>NaN</td>\n",
       "      <td>4.440000e+01</td>\n",
       "      <td>3.220000e+01</td>\n",
       "      <td>4.220000e+01</td>\n",
       "      <td>1402.000000</td>\n",
       "      <td>3.640000e+01</td>\n",
       "    </tr>\n",
       "  </tbody>\n",
       "</table>\n",
       "</div>"
      ],
      "text/plain": [
       "       AWDR  AWDR_ATTRIBUTES           AWND          PRCP          SNOW  \\\n",
       "count   0.0              0.0  161470.000000  2.615453e+06  2.332657e+06   \n",
       "mean    NaN              NaN       3.981785  2.289109e+00  4.469438e+00   \n",
       "std     NaN              NaN       1.679474  6.595064e+00  2.116437e+01   \n",
       "min     NaN              NaN       0.000000  0.000000e+00  0.000000e+00   \n",
       "25%     NaN              NaN       2.800000  0.000000e+00  0.000000e+00   \n",
       "50%     NaN              NaN       3.800000  0.000000e+00  0.000000e+00   \n",
       "75%     NaN              NaN       5.100000  1.000000e+00  0.000000e+00   \n",
       "max     NaN              NaN      13.900000  2.781000e+02  9.140000e+02   \n",
       "\n",
       "               SNWD          TAVG  THIC  THIC_ATTRIBUTES          TMAX  \\\n",
       "count  2.000024e+06  64765.000000   0.0              0.0  2.675926e+06   \n",
       "mean   6.069330e+01      7.698178   NaN              NaN  1.235803e+01   \n",
       "std    1.384310e+02     12.313990   NaN              NaN  1.282705e+01   \n",
       "min    0.000000e+00    -32.800000   NaN              NaN -3.560000e+01   \n",
       "25%    0.000000e+00     -1.100000   NaN              NaN  1.700000e+00   \n",
       "50%    0.000000e+00      8.900000   NaN              NaN  1.330000e+01   \n",
       "75%    2.500000e+01     18.300000   NaN              NaN  2.390000e+01   \n",
       "max    2.134000e+03     32.200000   NaN              NaN  4.440000e+01   \n",
       "\n",
       "               TMIN          TOBS           TSUN       TMINMAX  \n",
       "count  2.676166e+06  2.161190e+06  135777.000000  2.674968e+06  \n",
       "mean   6.523249e-01  6.408547e+00     384.926468  6.506743e+00  \n",
       "std    1.217317e+01  1.286101e+01     299.124963  1.227200e+01  \n",
       "min   -5.110000e+01 -5.000000e+01       0.000000 -4.140000e+01  \n",
       "25%   -7.200000e+00 -2.200000e+00      48.000000 -2.500000e+00  \n",
       "50%    1.700000e+00  6.700000e+00     411.000000  7.500000e+00  \n",
       "75%    1.060000e+01  1.670000e+01     643.000000  1.695000e+01  \n",
       "max    3.220000e+01  4.220000e+01    1402.000000  3.640000e+01  "
      ]
     },
     "execution_count": 42,
     "metadata": {},
     "output_type": "execute_result"
    }
   ],
   "source": [
    "dfresult.describe()"
   ]
  },
  {
   "cell_type": "markdown",
   "metadata": {},
   "source": [
    "Fill in blanks. Interpolate over blank days, up to 3 consecutive NaN.\n",
    "\n",
    "- should be OK for temperature, snow depth\n",
    "- precipitation and snow may not make sense..."
   ]
  },
  {
   "cell_type": "code",
   "execution_count": 43,
   "metadata": {},
   "outputs": [
    {
     "name": "stdout",
     "output_type": "stream",
     "text": [
      "xKB1987\n",
      "TMINMAX 0\n",
      "SNWD 73\n",
      "TSUN 310\n"
     ]
    }
   ],
   "source": [
    "dfresult_filled = dfresult.copy()\n",
    "\n",
    "for name,group in dfresult[['DATE','STATION','lakecode','lake','TMINMAX','SNOW','PRCP','SNWD','TSUN']].groupby('lakecode'):\n",
    "    clear_output(wait=True)\n",
    "    print(name)\n",
    "    for c in ['TMINMAX',\n",
    "              #'SNOW','PRCP', # can't justify interpolating snow and precipitation\n",
    "              'SNWD', # snow depth would make sense to interpolate between two days.\n",
    "              'TSUN' # number of sun minutes can also be justified for interpolation\n",
    "             ]:\n",
    "        ts = group[c].astype(float)\n",
    "        ts_filled = ts.interpolate(method='linear',limit=3, limit_area='inside')\n",
    "        ind = (ts!=ts_filled) & (~ts_filled.isnull())\n",
    "        print(c,ind.sum())\n",
    "        dfresult_filled.loc[group.index,c] = ts_filled"
   ]
  },
  {
   "cell_type": "code",
   "execution_count": 44,
   "metadata": {},
   "outputs": [],
   "source": [
    "#dfresult[dfresult.lakecode=='DMR2'].set_index('DATE').tail(8380).head(10).dropna(how='all',axis=1)"
   ]
  },
  {
   "cell_type": "markdown",
   "metadata": {},
   "source": [
    "These lakes have incomplete daily temperature records (1960 - now )"
   ]
  },
  {
   "cell_type": "code",
   "execution_count": 45,
   "metadata": {},
   "outputs": [
    {
     "name": "stdout",
     "output_type": "stream",
     "text": [
      "JJM33 bayfield [2009]\n",
      "KMS18 schroon [1968 1980 1985]\n",
      "xKB0555 floyd [1976 1992 1993 1994 1996]\n"
     ]
    }
   ],
   "source": [
    "for name,group in dfresult_filled[dfresult_filled.TMINMAX.isnull() & (dfresult_filled.DATE.dt.year>=1960)].groupby('lakecode'):\n",
    "    print(name, group.lake.drop_duplicates().to_list()[0], group.DATE.dt.year.unique())"
   ]
  },
  {
   "cell_type": "markdown",
   "metadata": {},
   "source": [
    "Check completion of columns"
   ]
  },
  {
   "cell_type": "code",
   "execution_count": 46,
   "metadata": {},
   "outputs": [],
   "source": [
    "#ind = dfresult_filled.TMINMAX.isnull() #& ~dfresult_filled.TOBS.isnull()\n",
    "#display(dfresult_filled[ind])"
   ]
  },
  {
   "cell_type": "markdown",
   "metadata": {},
   "source": [
    "### Save continuous time series\n",
    "- changed to \"extra\" weather in filename"
   ]
  },
  {
   "cell_type": "code",
   "execution_count": 47,
   "metadata": {},
   "outputs": [],
   "source": [
    "dfresult_filled.to_csv(f'/Volumes/{volume}/IceModels/top{nlakes}_extra_weather_all_deltaElev_{delta_elev_m}m.csv',index=False)\n"
   ]
  },
  {
   "cell_type": "markdown",
   "metadata": {},
   "source": [
    "___\n",
    "### QA/QC. Check weather station elevation vs lake elevation"
   ]
  },
  {
   "cell_type": "code",
   "execution_count": 36,
   "metadata": {},
   "outputs": [],
   "source": [
    "dfresult = pd.DataFrame()\n",
    "\n",
    "for stn,group in dfresult_filled.groupby('STATION'):\n",
    "    dfmerge = group.copy()\n",
    "    \n",
    "    dfstn = dfstations.loc[dfstations.GHCND_ID==stn,['BEGIN_DATE','END_DATE','GHCND_ID','ELEV_GROUND','ELEV_GROUND_UNIT']]\n",
    "\n",
    "    # backfill/forward fill if data is missing for given years, assuming elevation hasn't changed\n",
    "    dfstn = dfstn.fillna(method='bfill').fillna(method='ffill')\n",
    "    \n",
    "    dfstn.BEGIN_DATE = dfstn.BEGIN_DATE.replace(10101,17000101)\n",
    "    dfstn.END_DATE = dfstn.END_DATE.replace(99991231,21001231)\n",
    "    \n",
    "    newindex = pd.to_datetime(dfstn.set_index('BEGIN_DATE').index.tolist(),format='%Y%m%d')\n",
    "    dfstn.index = newindex\n",
    "    \n",
    "    # create a continuous time series\n",
    "    dfstn_new = dfstn[~dfstn.index.duplicated(keep='first')]\n",
    "    dfstn_new = dfstn_new.resample('D').ffill()\n",
    "    # find where elevation of station changes\n",
    "    dfstn_new = dfstn_new[dfstn_new.ELEV_GROUND.diff() != 0]\n",
    "    # redefine END_DATE based on when elevation changes (i.e., day before next BEGIN_DATE)\n",
    "    dfstn_new['END_DATE'] = dfstn_new.index #-pd.to_timedelta('1 day')\n",
    "    dfstn_new['END_DATE'] = dfstn_new['END_DATE'].shift(-1).dt.strftime('%Y%m%d')\n",
    "    dfstn_new = dfstn_new.reset_index(drop=True)\n",
    "    \n",
    "    # make sure all dates before and after are included in case the station summary file is missing dates\n",
    "    dfstn_new.iloc[0,0] = 10101\n",
    "    dfstn_new.iloc[-1,1] = 99991231\n",
    "    dfstn = dfstn_new.copy()\n",
    "    \n",
    "    if len(dfstn)==1:\n",
    "        dfoo = group.reset_index().merge(dfstn,left_on='STATION',right_on='GHCND_ID').set_index('index')\n",
    "    elif len(dfstn)==0:\n",
    "        print('missing')\n",
    "        break\n",
    "    else:\n",
    "        df_elev = pd.DataFrame()\n",
    "        for i,row in dfstn.iterrows():\n",
    "            if row.BEGIN_DATE==10101:\n",
    "                #display(dfstn)\n",
    "                begin_date = pd.to_datetime('1700-01-01')\n",
    "            else:\n",
    "                begin_date = pd.to_datetime(row.BEGIN_DATE, format='%Y%m%d')\n",
    "            if row.END_DATE==99991231:\n",
    "                end_date = pd.to_datetime('2100-12-31')\n",
    "            else:\n",
    "                # subtract one day so inclusive between statement below works as expected\n",
    "                end_date = pd.to_datetime(row.END_DATE, format='%Y%m%d') - pd.to_timedelta('1 day')\n",
    "            #print(begin_date,end_date)\n",
    "            ind = group.DATE.between(begin_date, end_date, inclusive='both')\n",
    "            solution_ =  group[ind].reset_index().merge(row.to_frame().T, left_on='STATION',right_on='GHCND_ID',how='left').set_index('index')\n",
    "            df_elev = df_elev.append(solution_[row.index].dropna())\n",
    "            #if len(df_elev) == len(group):\n",
    "            #    break\n",
    "                \n",
    "        try:\n",
    "            assert len(df_elev) == len(group)\n",
    "        except AssertionError:\n",
    "            print('Assertion Error.')\n",
    "            display(group.loc[[j for j in group.index if j not in df_elev.index]])\n",
    "            break\n",
    "\n",
    "        dfoo = group.merge(df_elev, left_index=True, right_index=True,how='left')\n",
    "    dfresult = dfresult.append(dfoo)\n",
    "\n",
    "# finally append missing station rows\n",
    "dfresult = dfresult.append(dfresult_filled[dfresult_filled.STATION.isnull()])\n",
    "        "
   ]
  },
  {
   "cell_type": "code",
   "execution_count": null,
   "metadata": {},
   "outputs": [],
   "source": []
  },
  {
   "cell_type": "code",
   "execution_count": 37,
   "metadata": {},
   "outputs": [
    {
     "data": {
      "text/html": [
       "<div>\n",
       "<style scoped>\n",
       "    .dataframe tbody tr th:only-of-type {\n",
       "        vertical-align: middle;\n",
       "    }\n",
       "\n",
       "    .dataframe tbody tr th {\n",
       "        vertical-align: top;\n",
       "    }\n",
       "\n",
       "    .dataframe thead th {\n",
       "        text-align: right;\n",
       "    }\n",
       "</style>\n",
       "<table border=\"1\" class=\"dataframe\">\n",
       "  <thead>\n",
       "    <tr style=\"text-align: right;\">\n",
       "      <th></th>\n",
       "      <th>DATE</th>\n",
       "      <th>STATION</th>\n",
       "      <th>TAVG</th>\n",
       "      <th>TMAX</th>\n",
       "      <th>TMIN</th>\n",
       "      <th>TOBS</th>\n",
       "      <th>lakecode</th>\n",
       "      <th>lake</th>\n",
       "      <th>AWDR</th>\n",
       "      <th>AWND</th>\n",
       "      <th>...</th>\n",
       "      <th>TSUN</th>\n",
       "      <th>TMINMAX</th>\n",
       "      <th>TDIFF</th>\n",
       "      <th>BEGIN_DATE</th>\n",
       "      <th>END_DATE</th>\n",
       "      <th>GHCND_ID</th>\n",
       "      <th>ELEV_GROUND</th>\n",
       "      <th>ELEV_GROUND_UNIT</th>\n",
       "      <th>Lake_elevation</th>\n",
       "      <th>Elevation_difference</th>\n",
       "    </tr>\n",
       "  </thead>\n",
       "  <tbody>\n",
       "    <tr>\n",
       "      <th>104242</th>\n",
       "      <td>2012-02-28</td>\n",
       "      <td>USC00202984</td>\n",
       "      <td>NaN</td>\n",
       "      <td>2.8</td>\n",
       "      <td>-5.6</td>\n",
       "      <td>1.1</td>\n",
       "      <td>RAA3</td>\n",
       "      <td>grand_traverse_bay</td>\n",
       "      <td>NaN</td>\n",
       "      <td>NaN</td>\n",
       "      <td>...</td>\n",
       "      <td>NaN</td>\n",
       "      <td>-1.40</td>\n",
       "      <td>8.4</td>\n",
       "      <td>20041216</td>\n",
       "      <td>99991231</td>\n",
       "      <td>USC00202984</td>\n",
       "      <td>948.0</td>\n",
       "      <td>FEET</td>\n",
       "      <td>176.67</td>\n",
       "      <td>112.280391</td>\n",
       "    </tr>\n",
       "    <tr>\n",
       "      <th>1204565</th>\n",
       "      <td>1941-01-01</td>\n",
       "      <td>USC00301492</td>\n",
       "      <td>NaN</td>\n",
       "      <td>-2.2</td>\n",
       "      <td>-5.6</td>\n",
       "      <td>-4.4</td>\n",
       "      <td>KMS5</td>\n",
       "      <td>genegantslet</td>\n",
       "      <td>NaN</td>\n",
       "      <td>NaN</td>\n",
       "      <td>...</td>\n",
       "      <td>NaN</td>\n",
       "      <td>-3.90</td>\n",
       "      <td>3.4</td>\n",
       "      <td>10101</td>\n",
       "      <td>19480501</td>\n",
       "      <td>USC00301492</td>\n",
       "      <td>1050.0</td>\n",
       "      <td>FEET</td>\n",
       "      <td>452.00</td>\n",
       "      <td>-131.96001</td>\n",
       "    </tr>\n",
       "    <tr>\n",
       "      <th>1322528</th>\n",
       "      <td>1977-01-29</td>\n",
       "      <td>USC00304207</td>\n",
       "      <td>NaN</td>\n",
       "      <td>-2.2</td>\n",
       "      <td>-24.4</td>\n",
       "      <td>-24.4</td>\n",
       "      <td>KMS9</td>\n",
       "      <td>chautauqua_south</td>\n",
       "      <td>NaN</td>\n",
       "      <td>NaN</td>\n",
       "      <td>...</td>\n",
       "      <td>NaN</td>\n",
       "      <td>-13.30</td>\n",
       "      <td>22.2</td>\n",
       "      <td>19711201</td>\n",
       "      <td>99991231</td>\n",
       "      <td>USC00304207</td>\n",
       "      <td>1250.0</td>\n",
       "      <td>FEET</td>\n",
       "      <td>491.25</td>\n",
       "      <td>-110.250012</td>\n",
       "    </tr>\n",
       "    <tr>\n",
       "      <th>1396133</th>\n",
       "      <td>1909-01-01</td>\n",
       "      <td>USC00304555</td>\n",
       "      <td>NaN</td>\n",
       "      <td>-3.9</td>\n",
       "      <td>-20.6</td>\n",
       "      <td>-9.4</td>\n",
       "      <td>KMS17</td>\n",
       "      <td>saranac_lower</td>\n",
       "      <td>NaN</td>\n",
       "      <td>NaN</td>\n",
       "      <td>...</td>\n",
       "      <td>NaN</td>\n",
       "      <td>-12.25</td>\n",
       "      <td>16.7</td>\n",
       "      <td>19090101</td>\n",
       "      <td>19410721</td>\n",
       "      <td>USC00304555</td>\n",
       "      <td>1864.0</td>\n",
       "      <td>FEET</td>\n",
       "      <td>468.00</td>\n",
       "      <td>100.147182</td>\n",
       "    </tr>\n",
       "    <tr>\n",
       "      <th>1401196</th>\n",
       "      <td>1898-07-01</td>\n",
       "      <td>USC00304731</td>\n",
       "      <td>NaN</td>\n",
       "      <td>28.9</td>\n",
       "      <td>15.6</td>\n",
       "      <td>NaN</td>\n",
       "      <td>KMS12</td>\n",
       "      <td>mohonk</td>\n",
       "      <td>NaN</td>\n",
       "      <td>NaN</td>\n",
       "      <td>...</td>\n",
       "      <td>NaN</td>\n",
       "      <td>22.25</td>\n",
       "      <td>13.3</td>\n",
       "      <td>18980201</td>\n",
       "      <td>19460701</td>\n",
       "      <td>USC00304731</td>\n",
       "      <td>2300.0</td>\n",
       "      <td>FEET</td>\n",
       "      <td>394.66</td>\n",
       "      <td>306.379978</td>\n",
       "    </tr>\n",
       "    <tr>\n",
       "      <th>1469232</th>\n",
       "      <td>2012-11-30</td>\n",
       "      <td>USC00305512</td>\n",
       "      <td>-1.7</td>\n",
       "      <td>4.4</td>\n",
       "      <td>-7.2</td>\n",
       "      <td>-3.9</td>\n",
       "      <td>LR2</td>\n",
       "      <td>cazenovia</td>\n",
       "      <td>NaN</td>\n",
       "      <td>NaN</td>\n",
       "      <td>...</td>\n",
       "      <td>NaN</td>\n",
       "      <td>-1.40</td>\n",
       "      <td>11.6</td>\n",
       "      <td>20110629</td>\n",
       "      <td>99991231</td>\n",
       "      <td>USC00305512</td>\n",
       "      <td>1681.0</td>\n",
       "      <td>FEET</td>\n",
       "      <td>364.00</td>\n",
       "      <td>148.368784</td>\n",
       "    </tr>\n",
       "    <tr>\n",
       "      <th>1530198</th>\n",
       "      <td>1901-01-01</td>\n",
       "      <td>USC00308036</td>\n",
       "      <td>NaN</td>\n",
       "      <td>1.1</td>\n",
       "      <td>-11.7</td>\n",
       "      <td>-10.6</td>\n",
       "      <td>KMS18</td>\n",
       "      <td>schroon</td>\n",
       "      <td>NaN</td>\n",
       "      <td>NaN</td>\n",
       "      <td>...</td>\n",
       "      <td>NaN</td>\n",
       "      <td>-5.30</td>\n",
       "      <td>12.8</td>\n",
       "      <td>10101</td>\n",
       "      <td>19120101</td>\n",
       "      <td>USC00308036</td>\n",
       "      <td>1225.0</td>\n",
       "      <td>FEET</td>\n",
       "      <td>246.00</td>\n",
       "      <td>127.379988</td>\n",
       "    </tr>\n",
       "    <tr>\n",
       "      <th>1532328</th>\n",
       "      <td>1901-12-01</td>\n",
       "      <td>USC00308036</td>\n",
       "      <td>NaN</td>\n",
       "      <td>3.9</td>\n",
       "      <td>-10.0</td>\n",
       "      <td>NaN</td>\n",
       "      <td>KMS2</td>\n",
       "      <td>brant</td>\n",
       "      <td>NaN</td>\n",
       "      <td>NaN</td>\n",
       "      <td>...</td>\n",
       "      <td>NaN</td>\n",
       "      <td>-3.05</td>\n",
       "      <td>13.9</td>\n",
       "      <td>10101</td>\n",
       "      <td>19120101</td>\n",
       "      <td>USC00308036</td>\n",
       "      <td>1225.0</td>\n",
       "      <td>FEET</td>\n",
       "      <td>242.00</td>\n",
       "      <td>131.379988</td>\n",
       "    </tr>\n",
       "    <tr>\n",
       "      <th>1706570</th>\n",
       "      <td>1999-10-01</td>\n",
       "      <td>USC00431580</td>\n",
       "      <td>NaN</td>\n",
       "      <td>17.2</td>\n",
       "      <td>3.9</td>\n",
       "      <td>6.1</td>\n",
       "      <td>KMS2</td>\n",
       "      <td>brant</td>\n",
       "      <td>NaN</td>\n",
       "      <td>NaN</td>\n",
       "      <td>...</td>\n",
       "      <td>NaN</td>\n",
       "      <td>10.55</td>\n",
       "      <td>13.3</td>\n",
       "      <td>19981112</td>\n",
       "      <td>20050728</td>\n",
       "      <td>USC00431580</td>\n",
       "      <td>400.0</td>\n",
       "      <td>FEET</td>\n",
       "      <td>242.00</td>\n",
       "      <td>-120.080004</td>\n",
       "    </tr>\n",
       "  </tbody>\n",
       "</table>\n",
       "<p>9 rows × 24 columns</p>\n",
       "</div>"
      ],
      "text/plain": [
       "              DATE      STATION  TAVG  TMAX  TMIN  TOBS lakecode  \\\n",
       "104242  2012-02-28  USC00202984   NaN   2.8  -5.6   1.1     RAA3   \n",
       "1204565 1941-01-01  USC00301492   NaN  -2.2  -5.6  -4.4     KMS5   \n",
       "1322528 1977-01-29  USC00304207   NaN  -2.2 -24.4 -24.4     KMS9   \n",
       "1396133 1909-01-01  USC00304555   NaN  -3.9 -20.6  -9.4    KMS17   \n",
       "1401196 1898-07-01  USC00304731   NaN  28.9  15.6   NaN    KMS12   \n",
       "1469232 2012-11-30  USC00305512  -1.7   4.4  -7.2  -3.9      LR2   \n",
       "1530198 1901-01-01  USC00308036   NaN   1.1 -11.7 -10.6    KMS18   \n",
       "1532328 1901-12-01  USC00308036   NaN   3.9 -10.0   NaN     KMS2   \n",
       "1706570 1999-10-01  USC00431580   NaN  17.2   3.9   6.1     KMS2   \n",
       "\n",
       "                       lake  AWDR  AWND  ...  TSUN  TMINMAX  TDIFF  \\\n",
       "104242   grand_traverse_bay   NaN   NaN  ...   NaN    -1.40    8.4   \n",
       "1204565        genegantslet   NaN   NaN  ...   NaN    -3.90    3.4   \n",
       "1322528    chautauqua_south   NaN   NaN  ...   NaN   -13.30   22.2   \n",
       "1396133       saranac_lower   NaN   NaN  ...   NaN   -12.25   16.7   \n",
       "1401196              mohonk   NaN   NaN  ...   NaN    22.25   13.3   \n",
       "1469232           cazenovia   NaN   NaN  ...   NaN    -1.40   11.6   \n",
       "1530198             schroon   NaN   NaN  ...   NaN    -5.30   12.8   \n",
       "1532328               brant   NaN   NaN  ...   NaN    -3.05   13.9   \n",
       "1706570               brant   NaN   NaN  ...   NaN    10.55   13.3   \n",
       "\n",
       "         BEGIN_DATE  END_DATE     GHCND_ID  ELEV_GROUND ELEV_GROUND_UNIT  \\\n",
       "104242     20041216  99991231  USC00202984        948.0             FEET   \n",
       "1204565       10101  19480501  USC00301492       1050.0             FEET   \n",
       "1322528    19711201  99991231  USC00304207       1250.0             FEET   \n",
       "1396133    19090101  19410721  USC00304555       1864.0             FEET   \n",
       "1401196    18980201  19460701  USC00304731       2300.0             FEET   \n",
       "1469232    20110629  99991231  USC00305512       1681.0             FEET   \n",
       "1530198       10101  19120101  USC00308036       1225.0             FEET   \n",
       "1532328       10101  19120101  USC00308036       1225.0             FEET   \n",
       "1706570    19981112  20050728  USC00431580        400.0             FEET   \n",
       "\n",
       "        Lake_elevation Elevation_difference  \n",
       "104242          176.67           112.280391  \n",
       "1204565         452.00           -131.96001  \n",
       "1322528         491.25          -110.250012  \n",
       "1396133         468.00           100.147182  \n",
       "1401196         394.66           306.379978  \n",
       "1469232         364.00           148.368784  \n",
       "1530198         246.00           127.379988  \n",
       "1532328         242.00           131.379988  \n",
       "1706570         242.00          -120.080004  \n",
       "\n",
       "[9 rows x 24 columns]"
      ]
     },
     "execution_count": 37,
     "metadata": {},
     "output_type": "execute_result"
    }
   ],
   "source": [
    "dfresult2 = dfresult.merge(dftopN.loc[:,['lakecode',\n",
    "                                              'Elevation']].drop_duplicates().rename({'Elevation':'Lake_elevation'},axis=1),\n",
    "               left_on='lakecode',right_on='lakecode',validate='many_to_one',how='left')\n",
    "\n",
    "dfresult2['Elevation_difference'] = dfresult2.ELEV_GROUND/3.28084 - dfresult2.Lake_elevation\n",
    "\n",
    "dfresult2[np.abs(dfresult2.Elevation_difference) >100].drop_duplicates(['STATION','lakecode'])"
   ]
  },
  {
   "cell_type": "code",
   "execution_count": 40,
   "metadata": {},
   "outputs": [
    {
     "data": {
      "text/plain": [
       "<matplotlib.lines.Line2D at 0x11d319400>"
      ]
     },
     "execution_count": 40,
     "metadata": {},
     "output_type": "execute_result"
    },
    {
     "data": {
      "image/png": "[encoded data removed]",
      "text/plain": [
       "<Figure size 432x288 with 1 Axes>"
      ]
     },
     "metadata": {
      "needs_background": "light"
     },
     "output_type": "display_data"
    }
   ],
   "source": [
    "x,y = dfresult2.drop_duplicates(['lakecode','STATION'])[['Lake_elevation', 'ELEV_GROUND']].T.values\n",
    "\n",
    "ydiff = y/3.28084 - x\n",
    "fig,ax = plt.subplots()\n",
    "ax.plot(x,ydiff,marker='.',ls='none')\n",
    "ax.set_ylabel('Station-lake elevation difference (m)')\n",
    "ax.set_xlabel('Lake elevation (m)')\n",
    "#ax.plot([100,700],[100,700],color='k',lw=0.5)\n",
    "ax.axhline(0,color='k',lw=0.5)"
   ]
  }
 ],
 "metadata": {
  "kernelspec": {
   "display_name": "icemodels",
   "language": "python",
   "name": "icemodels"
  },
  "language_info": {
   "codemirror_mode": {
    "name": "ipython",
    "version": 3
   },
   "file_extension": ".py",
   "mimetype": "text/x-python",
   "name": "python",
   "nbconvert_exporter": "python",
   "pygments_lexer": "ipython3",
   "version": "3.8.5"
  }
 },
 "nbformat": 4,
 "nbformat_minor": 4
}
