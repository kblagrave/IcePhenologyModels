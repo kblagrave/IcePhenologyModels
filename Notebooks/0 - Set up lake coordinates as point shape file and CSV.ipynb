{
 "cells": [
  {
   "cell_type": "code",
   "execution_count": 1,
   "metadata": {},
   "outputs": [
    {
     "name": "stderr",
     "output_type": "stream",
     "text": [
      "/Users/blagrave/.virtualenvs/icemodels/lib/python3.8/site-packages/pandas/core/dtypes/cast.py:1990: ShapelyDeprecationWarning: __len__ for multi-part geometries is deprecated and will be removed in Shapely 2.0. Check the length of the `geoms` property instead to get the  number of parts of a multi-part geometry.\n",
      "  result[:] = values\n"
     ]
    }
   ],
   "source": [
    "import pandas as pd\n",
    "import numpy as np\n",
    "from matplotlib import pyplot as plt\n",
    "\n",
    "from IPython.display import clear_output\n",
    "\n",
    "from match2hydrolakes import match2hydrolakes\n",
    "\n",
    "from osgeo import ogr, osr\n",
    "\n",
    "# used for QA/QC\n",
    "from hydrolakes import draw_lake\n",
    "\n",
    "from kpmb_plots_cartopy import find_country"
   ]
  },
  {
   "cell_type": "markdown",
   "metadata": {},
   "source": [
    "Select lakes from US lakes file"
   ]
  },
  {
   "cell_type": "code",
   "execution_count": 2,
   "metadata": {},
   "outputs": [],
   "source": [
    "nlakes = 100\n",
    "\n",
    "dfice = pd.read_csv('../Data/IcePhenology/us_lakes_ts_minimal.csv', low_memory=False)\n",
    "\n",
    "long_records_lakecode = dfice[~dfice.ice_on_1.isnull() &\n",
    "                             ~dfice.loc[:,[f'ice_off_{i}' for i in range(1,7)]].isnull().all(axis=1)].groupby('lakecode').lake.count().sort_values().tail(nlakes).index\n",
    "\n",
    "dftopN = dfice[dfice.lakecode.isin(long_records_lakecode)].groupby('lakecode').apply(lambda x:\n",
    "                                                                                      pd.Series({'lake':x.lake.dropna().unique()[0], 'start_date':x.start_year.min(),'end_date':x.start_year.max()+1,'lat':x.latitude.unique()[0],'lon':x.longitude.unique()[0]}))\n",
    "# missing coordinate for Lake Itasca - North # record is missing all together?\n",
    "if 'xKB0781' in dftopN.index:\n",
    "    dftopN.loc['xKB0781',['lat','lon']] = 47.23561941185806, -95.20266402552227"
   ]
  },
  {
   "cell_type": "code",
   "execution_count": 3,
   "metadata": {},
   "outputs": [
    {
     "data": {
      "text/html": [
       "<div>\n",
       "<style scoped>\n",
       "    .dataframe tbody tr th:only-of-type {\n",
       "        vertical-align: middle;\n",
       "    }\n",
       "\n",
       "    .dataframe tbody tr th {\n",
       "        vertical-align: top;\n",
       "    }\n",
       "\n",
       "    .dataframe thead th {\n",
       "        text-align: right;\n",
       "    }\n",
       "</style>\n",
       "<table border=\"1\" class=\"dataframe\">\n",
       "  <thead>\n",
       "    <tr style=\"text-align: right;\">\n",
       "      <th></th>\n",
       "      <th>lake</th>\n",
       "      <th>start_date</th>\n",
       "      <th>end_date</th>\n",
       "      <th>lat</th>\n",
       "      <th>lon</th>\n",
       "    </tr>\n",
       "    <tr>\n",
       "      <th>lakecode</th>\n",
       "      <th></th>\n",
       "      <th></th>\n",
       "      <th></th>\n",
       "      <th></th>\n",
       "      <th></th>\n",
       "    </tr>\n",
       "  </thead>\n",
       "  <tbody>\n",
       "    <tr>\n",
       "      <th>DMR1</th>\n",
       "      <td>mendota</td>\n",
       "      <td>1852</td>\n",
       "      <td>2019</td>\n",
       "      <td>43.12800</td>\n",
       "      <td>-89.42000</td>\n",
       "    </tr>\n",
       "    <tr>\n",
       "      <th>DMR2</th>\n",
       "      <td>monona</td>\n",
       "      <td>1851</td>\n",
       "      <td>2019</td>\n",
       "      <td>43.06700</td>\n",
       "      <td>-89.36600</td>\n",
       "    </tr>\n",
       "    <tr>\n",
       "      <th>HB01</th>\n",
       "      <td>mirror</td>\n",
       "      <td>1968</td>\n",
       "      <td>2006</td>\n",
       "      <td>43.94400</td>\n",
       "      <td>-71.69300</td>\n",
       "    </tr>\n",
       "    <tr>\n",
       "      <th>JD01</th>\n",
       "      <td>kegonsa</td>\n",
       "      <td>1902</td>\n",
       "      <td>2007</td>\n",
       "      <td>42.96600</td>\n",
       "      <td>-89.25100</td>\n",
       "    </tr>\n",
       "    <tr>\n",
       "      <th>JGL01</th>\n",
       "      <td>spirit</td>\n",
       "      <td>1943</td>\n",
       "      <td>2008</td>\n",
       "      <td>43.47700</td>\n",
       "      <td>-95.10200</td>\n",
       "    </tr>\n",
       "    <tr>\n",
       "      <th>...</th>\n",
       "      <td>...</td>\n",
       "      <td>...</td>\n",
       "      <td>...</td>\n",
       "      <td>...</td>\n",
       "      <td>...</td>\n",
       "    </tr>\n",
       "    <tr>\n",
       "      <th>xKB1820</th>\n",
       "      <td>turtle</td>\n",
       "      <td>1964</td>\n",
       "      <td>2016</td>\n",
       "      <td>47.61765</td>\n",
       "      <td>-94.86755</td>\n",
       "    </tr>\n",
       "    <tr>\n",
       "      <th>xKB1881</th>\n",
       "      <td>upper_prior</td>\n",
       "      <td>1962</td>\n",
       "      <td>2017</td>\n",
       "      <td>44.71411</td>\n",
       "      <td>-93.44694</td>\n",
       "    </tr>\n",
       "    <tr>\n",
       "      <th>xKB1921</th>\n",
       "      <td>washington</td>\n",
       "      <td>1949</td>\n",
       "      <td>2017</td>\n",
       "      <td>44.25335</td>\n",
       "      <td>-93.87293</td>\n",
       "    </tr>\n",
       "    <tr>\n",
       "      <th>xKB1946</th>\n",
       "      <td>west_mcdonald</td>\n",
       "      <td>1967</td>\n",
       "      <td>2016</td>\n",
       "      <td>46.58214</td>\n",
       "      <td>-95.78864</td>\n",
       "    </tr>\n",
       "    <tr>\n",
       "      <th>xKB1987</th>\n",
       "      <td>wirth</td>\n",
       "      <td>1958</td>\n",
       "      <td>2016</td>\n",
       "      <td>44.98177</td>\n",
       "      <td>-93.32369</td>\n",
       "    </tr>\n",
       "  </tbody>\n",
       "</table>\n",
       "<p>100 rows × 5 columns</p>\n",
       "</div>"
      ],
      "text/plain": [
       "                   lake  start_date  end_date       lat       lon\n",
       "lakecode                                                         \n",
       "DMR1            mendota        1852      2019  43.12800 -89.42000\n",
       "DMR2             monona        1851      2019  43.06700 -89.36600\n",
       "HB01             mirror        1968      2006  43.94400 -71.69300\n",
       "JD01            kegonsa        1902      2007  42.96600 -89.25100\n",
       "JGL01            spirit        1943      2008  43.47700 -95.10200\n",
       "...                 ...         ...       ...       ...       ...\n",
       "xKB1820          turtle        1964      2016  47.61765 -94.86755\n",
       "xKB1881     upper_prior        1962      2017  44.71411 -93.44694\n",
       "xKB1921      washington        1949      2017  44.25335 -93.87293\n",
       "xKB1946   west_mcdonald        1967      2016  46.58214 -95.78864\n",
       "xKB1987           wirth        1958      2016  44.98177 -93.32369\n",
       "\n",
       "[100 rows x 5 columns]"
      ]
     },
     "execution_count": 3,
     "metadata": {},
     "output_type": "execute_result"
    }
   ],
   "source": [
    "dfice.drop_duplicates('lakecode')\n",
    "dftopN#.lat.mean()"
   ]
  },
  {
   "cell_type": "markdown",
   "metadata": {},
   "source": [
    "Match with HydroLAKES. Removing duplicates and no matches, using column header 'Match'"
   ]
  },
  {
   "cell_type": "code",
   "execution_count": 39,
   "metadata": {},
   "outputs": [
    {
     "name": "stdout",
     "output_type": "stream",
     "text": [
      "8\n",
      "9\n",
      "17\n"
     ]
    }
   ],
   "source": [
    "for i,row in dftopN.iterrows():\n",
    "    dist,hylak_id = match2hydrolakes(row.lat,row.lon)\n",
    "    dftopN.loc[i,'Distance'] = dist\n",
    "    dftopN.loc[i,'Hylak_id'] = hylak_id\n",
    "    \n",
    "\n",
    "nohylak = dftopN[(dftopN.Distance==0)].duplicated('Hylak_id',keep=False).replace(False,np.nan).dropna().index\n",
    "\n",
    "# Kegonsa observed by two different people OK\n",
    "expected_duplicates = ['JD01','JJM9']\n",
    "\n",
    "nohylak = [hh for hh in nohylak if hh not in expected_duplicates]\n",
    "\n",
    "dftopN['Match'] = True\n",
    "print(len(dftopN[dftopN.index.isin(nohylak)]))\n",
    "print(len(dftopN[dftopN.Hylak_id.isnull()]))\n",
    "dftopN.loc[dftopN.index.isin(nohylak) | dftopN.Hylak_id.isnull(),'Match'] = False\n",
    "print(len(dftopN[dftopN.index.isin(nohylak) | dftopN.Hylak_id.isnull()]))"
   ]
  },
  {
   "cell_type": "code",
   "execution_count": 40,
   "metadata": {},
   "outputs": [
    {
     "data": {
      "text/plain": [
       "['JGL02', 'JGL03', 'JJM30', 'JJM33', 'JJM7', 'JJM8', 'RAA3', 'RAA4']"
      ]
     },
     "execution_count": 40,
     "metadata": {},
     "output_type": "execute_result"
    }
   ],
   "source": [
    "nohylak"
   ]
  },
  {
   "cell_type": "markdown",
   "metadata": {},
   "source": [
    "### QA/QC\n",
    "a) Cycle through HydroLAKES matches where point lies outside of polygon"
   ]
  },
  {
   "cell_type": "code",
   "execution_count": 41,
   "metadata": {},
   "outputs": [
    {
     "name": "stdout",
     "output_type": "stream",
     "text": [
      "crystal_bog 46.0 -89.6\n",
      "placid 44.304 -73.995\n",
      "deep 43.03 -77.57\n",
      "lake_of_the_isles 44.95538 -93.30705\n",
      "long 46.81725 -95.89779\n",
      "washington 44.25335 -93.87293\n"
     ]
    },
    {
     "data": {
      "image/png": "[encoded data removed]",
      "text/plain": [
       "<Figure size 432x288 with 1 Axes>"
      ]
     },
     "metadata": {
      "needs_background": "light"
     },
     "output_type": "display_data"
    },
    {
     "data": {
      "image/png": "[encoded data removed]",
      "text/plain": [
       "<Figure size 432x288 with 1 Axes>"
      ]
     },
     "metadata": {
      "needs_background": "light"
     },
     "output_type": "display_data"
    },
    {
     "data": {
      "image/png": "[encoded data removed]",
      "text/plain": [
       "<Figure size 432x288 with 1 Axes>"
      ]
     },
     "metadata": {
      "needs_background": "light"
     },
     "output_type": "display_data"
    },
    {
     "data": {
      "image/png": "[encoded data removed]",
      "text/plain": [
       "<Figure size 432x288 with 1 Axes>"
      ]
     },
     "metadata": {
      "needs_background": "light"
     },
     "output_type": "display_data"
    },
    {
     "data": {
      "image/png": "[encoded data removed]",
      "text/plain": [
       "<Figure size 432x288 with 1 Axes>"
      ]
     },
     "metadata": {
      "needs_background": "light"
     },
     "output_type": "display_data"
    },
    {
     "data": {
      "image/png": "[encoded data removed]",
      "text/plain": [
       "<Figure size 432x288 with 1 Axes>"
      ]
     },
     "metadata": {
      "needs_background": "light"
     },
     "output_type": "display_data"
    }
   ],
   "source": [
    "for i,row in dftopN[dftopN.Match & (dftopN.Distance>0)].iterrows():\n",
    "    ax=draw_lake(int(row.Hylak_id))\n",
    "    ax.text(row.lon,row.lat, row.lake)\n",
    "    print(row.lake, row.lat, row.lon)"
   ]
  },
  {
   "cell_type": "markdown",
   "metadata": {},
   "source": [
    "b) Cycle through all HydroLAKES matches."
   ]
  },
  {
   "cell_type": "code",
   "execution_count": 42,
   "metadata": {},
   "outputs": [
    {
     "data": {
      "image/png": "[encoded data removed]",
      "text/plain": [
       "<Figure size 432x288 with 1 Axes>"
      ]
     },
     "metadata": {
      "needs_background": "light"
     },
     "output_type": "display_data"
    },
    {
     "name": "stdout",
     "output_type": "stream",
     "text": [
      "Continue?\n"
     ]
    }
   ],
   "source": [
    "for i, row in dftopN.loc[dftopN.Match,['lake','Hylak_id','lat','lon']].iterrows():\n",
    "    ax = draw_lake(int(row.Hylak_id))\n",
    "    ax.text(row.lon,row.lat,row.lake)\n",
    "    plt.show()\n",
    "    input('Continue?')\n",
    "    clear_output(wait=True)"
   ]
  },
  {
   "cell_type": "markdown",
   "metadata": {},
   "source": [
    "Remove these HydroLAKES matches, based on visual inspections above"
   ]
  },
  {
   "cell_type": "code",
   "execution_count": 43,
   "metadata": {},
   "outputs": [],
   "source": [
    "# these HydroLAKES include other lakes as well. Delineation not clear\n",
    "remove_match = ['crystal_bog','chautauqua_north','lower_hay',\n",
    "                'lower_mission',\n",
    "                'peltier',\n",
    "                'turtle','upper_prior','west_mcdonald']\n",
    "\n",
    "ind = dftopN.lake.isin(remove_match)\n",
    "dftopN.loc[ind,'Match'] = False"
   ]
  },
  {
   "cell_type": "code",
   "execution_count": 44,
   "metadata": {},
   "outputs": [
    {
     "data": {
      "text/plain": [
       "(76, 8)"
      ]
     },
     "execution_count": 44,
     "metadata": {},
     "output_type": "execute_result"
    }
   ],
   "source": [
    "dftopN[dftopN.Distance.isnull()]\n",
    "dftopN[dftopN.Match].shape"
   ]
  },
  {
   "cell_type": "code",
   "execution_count": 45,
   "metadata": {},
   "outputs": [
    {
     "data": {
      "text/html": [
       "<div>\n",
       "<style scoped>\n",
       "    .dataframe tbody tr th:only-of-type {\n",
       "        vertical-align: middle;\n",
       "    }\n",
       "\n",
       "    .dataframe tbody tr th {\n",
       "        vertical-align: top;\n",
       "    }\n",
       "\n",
       "    .dataframe thead th {\n",
       "        text-align: right;\n",
       "    }\n",
       "</style>\n",
       "<table border=\"1\" class=\"dataframe\">\n",
       "  <thead>\n",
       "    <tr style=\"text-align: right;\">\n",
       "      <th></th>\n",
       "      <th>lake</th>\n",
       "      <th>start_date</th>\n",
       "      <th>end_date</th>\n",
       "      <th>lat</th>\n",
       "      <th>lon</th>\n",
       "      <th>Distance</th>\n",
       "      <th>Hylak_id</th>\n",
       "      <th>Match</th>\n",
       "    </tr>\n",
       "    <tr>\n",
       "      <th>lakecode</th>\n",
       "      <th></th>\n",
       "      <th></th>\n",
       "      <th></th>\n",
       "      <th></th>\n",
       "      <th></th>\n",
       "      <th></th>\n",
       "      <th></th>\n",
       "      <th></th>\n",
       "    </tr>\n",
       "  </thead>\n",
       "  <tbody>\n",
       "    <tr>\n",
       "      <th>JJM3</th>\n",
       "      <td>crystal_bog</td>\n",
       "      <td>1981</td>\n",
       "      <td>2018</td>\n",
       "      <td>46.00000</td>\n",
       "      <td>-89.60000</td>\n",
       "      <td>641.87626</td>\n",
       "      <td>1032388.0</td>\n",
       "      <td>False</td>\n",
       "    </tr>\n",
       "    <tr>\n",
       "      <th>KMS8</th>\n",
       "      <td>chautauqua_north</td>\n",
       "      <td>1923</td>\n",
       "      <td>2005</td>\n",
       "      <td>42.17600</td>\n",
       "      <td>-79.42900</td>\n",
       "      <td>0.00000</td>\n",
       "      <td>9129.0</td>\n",
       "      <td>False</td>\n",
       "    </tr>\n",
       "    <tr>\n",
       "      <th>xKB1045</th>\n",
       "      <td>lower_hay</td>\n",
       "      <td>1965</td>\n",
       "      <td>2015</td>\n",
       "      <td>46.66920</td>\n",
       "      <td>-94.28489</td>\n",
       "      <td>0.00000</td>\n",
       "      <td>8630.0</td>\n",
       "      <td>False</td>\n",
       "    </tr>\n",
       "    <tr>\n",
       "      <th>xKB1341</th>\n",
       "      <td>peltier</td>\n",
       "      <td>1979</td>\n",
       "      <td>2017</td>\n",
       "      <td>45.18724</td>\n",
       "      <td>-93.05622</td>\n",
       "      <td>0.00000</td>\n",
       "      <td>109306.0</td>\n",
       "      <td>False</td>\n",
       "    </tr>\n",
       "    <tr>\n",
       "      <th>xKB1820</th>\n",
       "      <td>turtle</td>\n",
       "      <td>1964</td>\n",
       "      <td>2016</td>\n",
       "      <td>47.61765</td>\n",
       "      <td>-94.86755</td>\n",
       "      <td>0.00000</td>\n",
       "      <td>105222.0</td>\n",
       "      <td>False</td>\n",
       "    </tr>\n",
       "    <tr>\n",
       "      <th>xKB1881</th>\n",
       "      <td>upper_prior</td>\n",
       "      <td>1962</td>\n",
       "      <td>2017</td>\n",
       "      <td>44.71411</td>\n",
       "      <td>-93.44694</td>\n",
       "      <td>0.00000</td>\n",
       "      <td>109902.0</td>\n",
       "      <td>False</td>\n",
       "    </tr>\n",
       "    <tr>\n",
       "      <th>xKB1946</th>\n",
       "      <td>west_mcdonald</td>\n",
       "      <td>1967</td>\n",
       "      <td>2016</td>\n",
       "      <td>46.58214</td>\n",
       "      <td>-95.78864</td>\n",
       "      <td>0.00000</td>\n",
       "      <td>107079.0</td>\n",
       "      <td>False</td>\n",
       "    </tr>\n",
       "  </tbody>\n",
       "</table>\n",
       "</div>"
      ],
      "text/plain": [
       "                      lake  start_date  end_date       lat       lon  \\\n",
       "lakecode                                                               \n",
       "JJM3           crystal_bog        1981      2018  46.00000 -89.60000   \n",
       "KMS8      chautauqua_north        1923      2005  42.17600 -79.42900   \n",
       "xKB1045          lower_hay        1965      2015  46.66920 -94.28489   \n",
       "xKB1341            peltier        1979      2017  45.18724 -93.05622   \n",
       "xKB1820             turtle        1964      2016  47.61765 -94.86755   \n",
       "xKB1881        upper_prior        1962      2017  44.71411 -93.44694   \n",
       "xKB1946      west_mcdonald        1967      2016  46.58214 -95.78864   \n",
       "\n",
       "           Distance   Hylak_id  Match  \n",
       "lakecode                               \n",
       "JJM3      641.87626  1032388.0  False  \n",
       "KMS8        0.00000     9129.0  False  \n",
       "xKB1045     0.00000     8630.0  False  \n",
       "xKB1341     0.00000   109306.0  False  \n",
       "xKB1820     0.00000   105222.0  False  \n",
       "xKB1881     0.00000   109902.0  False  \n",
       "xKB1946     0.00000   107079.0  False  "
      ]
     },
     "execution_count": 45,
     "metadata": {},
     "output_type": "execute_result"
    }
   ],
   "source": [
    "dftopN.loc[ind,:]"
   ]
  },
  {
   "cell_type": "markdown",
   "metadata": {},
   "source": [
    "Copy over HydroLAKES lake characteristics based on Hylak_id match"
   ]
  },
  {
   "cell_type": "code",
   "execution_count": 46,
   "metadata": {},
   "outputs": [],
   "source": [
    "ds = ogr.Open('/Users/blagrave/Projects/Lakes/data/HydroLAKES_data/HydroLAKES_polys_v10_shp/HydroLAKES_polys_v10_shp/HydroLAKES_polys_v10.shp')\n",
    "\n",
    "ds_layer = ds.GetLayer()\n",
    "\n",
    "ds_layer.SetAttributeFilter(f\"Hylak_id in ({','.join(dftopN[dftopN.Match].Hylak_id.dropna().astype(int).astype(str).tolist())})\")\n",
    "layerDefinition = ds_layer.GetLayerDefn()\n",
    "\n",
    "# Read in shapefile table headings of HydroLAKES characteristics\n",
    "columns = []\n",
    "for i in range(layerDefinition.GetFieldCount()):\n",
    "    columns.append(layerDefinition.GetFieldDefn(i).GetName())\n",
    "\n",
    "for feat in ds_layer:\n",
    "    ind = (dftopN.Hylak_id == feat.GetField('Hylak_id')) & (dftopN.Match)\n",
    "    for c in columns:\n",
    "        dftopN.loc[ind,c] = feat.GetField(c)"
   ]
  },
  {
   "cell_type": "code",
   "execution_count": 47,
   "metadata": {},
   "outputs": [
    {
     "data": {
      "text/plain": [
       "(76, 28)"
      ]
     },
     "execution_count": 47,
     "metadata": {},
     "output_type": "execute_result"
    }
   ],
   "source": [
    "dftopN[dftopN.Match].shape"
   ]
  },
  {
   "cell_type": "markdown",
   "metadata": {},
   "source": [
    "Find lake elevation where there is no HydroLAKES match.\n",
    "- Query `nationalmap.gov`"
   ]
  },
  {
   "cell_type": "code",
   "execution_count": 48,
   "metadata": {},
   "outputs": [],
   "source": [
    "import requests\n",
    "import urllib\n",
    "\n",
    "# USGS Elevation Point Query Service\n",
    "url = r'https://nationalmap.gov/epqs/pqs.php?'\n",
    "\n",
    "def find_elevation(lats, lons):\n",
    "\n",
    "    elevations = []\n",
    "    \n",
    "    for lat, lon in zip(lats,lons):\n",
    "\n",
    "        params = {\n",
    "            'output': 'json',\n",
    "            'x': lon,\n",
    "            'y': lat,\n",
    "            'units': 'Meters'\n",
    "        }\n",
    "\n",
    "        result = requests.get((url + urllib.parse.urlencode(params)))\n",
    "        elev = result.json()['USGS_Elevation_Point_Query_Service']['Elevation_Query']['Elevation']\n",
    "\n",
    "        elevations.append(elev)\n",
    "    \n",
    "    \n",
    "    return elevations\n"
   ]
  },
  {
   "cell_type": "code",
   "execution_count": 49,
   "metadata": {},
   "outputs": [],
   "source": [
    "lat, lon = dftopN.loc[dftopN.Elevation.isnull(), ['lat','lon']].T.values\n",
    "new_elevations = find_elevation(lat,lon)"
   ]
  },
  {
   "cell_type": "code",
   "execution_count": 50,
   "metadata": {},
   "outputs": [],
   "source": [
    "dftopN.loc[dftopN.Elevation.isnull(), 'Elevation'] = new_elevations"
   ]
  },
  {
   "cell_type": "markdown",
   "metadata": {},
   "source": [
    "## Create shapefile and CSV"
   ]
  },
  {
   "cell_type": "code",
   "execution_count": 52,
   "metadata": {},
   "outputs": [],
   "source": [
    "volume = 'My Passport for Mac'\n",
    "#version = '_forAman'\n",
    "version = ''\n",
    "\n",
    "#volume = 'Data'\n",
    "\n",
    "driver = ogr.GetDriverByName('ESRI Shapefile')\n",
    "\n",
    "data_source = driver.CreateDataSource(f'/Volumes/{volume}/IceModels/topUSlakes{version}.shp')\n",
    "srs = osr.SpatialReference()\n",
    "srs.ImportFromEPSG(4326)\n",
    "\n",
    "# create the layer\n",
    "layer = data_source.CreateLayer('lakes',srs,ogr.wkbPoint)\n",
    "\n",
    "dtypes_dict = {'|O':ogr.OFTString,\n",
    "               '<i8':ogr.OFTInteger,\n",
    "              '<f8':ogr.OFTReal}\n",
    "\n",
    "# add the field headings\n",
    "for c,d in dftopN.reset_index().dtypes.iteritems():\n",
    "    if c=='Match':\n",
    "        continue\n",
    "    #print(c,d)\n",
    "    ogr_type = dtypes_dict[d.str]\n",
    "    field_name = ogr.FieldDefn(c,ogr_type)\n",
    "    layer.CreateField(field_name)\n",
    "\n",
    "for i,row in dftopN.reset_index().iterrows():\n",
    "    feature = ogr.Feature(layer.GetLayerDefn())\n",
    "    for c in dftopN.reset_index().columns:\n",
    "        if c=='Match':\n",
    "            continue\n",
    "        feature.SetField(c,row[c])\n",
    "    wkt = f\"POINT({row.lon} {row.lat})\"\n",
    "    point = ogr.CreateGeometryFromWkt(wkt)\n",
    "    feature.SetGeometry(point)\n",
    "    layer.CreateFeature(feature)\n",
    "    feature = None\n",
    "    \n",
    "data_source = None\n",
    "\n",
    "dftopN.reset_index().to_csv(f'/Volumes/{volume}/IceModels/topUSlakes{version}.csv',index=False)"
   ]
  },
  {
   "cell_type": "code",
   "execution_count": 57,
   "metadata": {},
   "outputs": [
    {
     "data": {
      "text/plain": [
       "Index(['lakecode', 'lake', 'start_year', 'froze', 'froze_1', 'froze_2',\n",
       "       'froze_3', 'froze_4', 'froze_5', 'froze_6', 'ice_on_1', 'ice_off_1',\n",
       "       'ice_on_2', 'ice_off_2', 'ice_on_3', 'ice_off_3', 'ice_on_4',\n",
       "       'ice_off_4', 'ice_on_5', 'ice_off_5', 'ice_on_6', 'ice_off_6',\n",
       "       'ice_on_1_doy', 'ice_off_1_doy', 'ice_on_2_doy', 'ice_off_2_doy',\n",
       "       'ice_on_3_doy', 'ice_off_3_doy', 'ice_on_4_doy', 'ice_off_4_doy',\n",
       "       'ice_on_5_doy', 'ice_off_5_doy', 'ice_on_6_doy', 'ice_off_6_doy',\n",
       "       'orig_duration', 'orig_duration_column', 'season_duration',\n",
       "       'max_duration', 'total_duration', 'source', 'contributor', 'latitude',\n",
       "       'longitude', 'other_lakenames', 'filename', 'ice_on', 'ice_on_doy',\n",
       "       'ice_off', 'ice_off_doy', 'country'],\n",
       "      dtype='object')"
      ]
     },
     "execution_count": 57,
     "metadata": {},
     "output_type": "execute_result"
    }
   ],
   "source": [
    "dfice[dfice.lakecode.isin(dftopN.index)].columns"
   ]
  },
  {
   "cell_type": "code",
   "execution_count": null,
   "metadata": {},
   "outputs": [],
   "source": []
  }
 ],
 "metadata": {
  "kernelspec": {
   "display_name": "icemodels",
   "language": "python",
   "name": "icemodels"
  },
  "language_info": {
   "codemirror_mode": {
    "name": "ipython",
    "version": 3
   },
   "file_extension": ".py",
   "mimetype": "text/x-python",
   "name": "python",
   "nbconvert_exporter": "python",
   "pygments_lexer": "ipython3",
   "version": "3.8.5"
  }
 },
 "nbformat": 4,
 "nbformat_minor": 4
}
