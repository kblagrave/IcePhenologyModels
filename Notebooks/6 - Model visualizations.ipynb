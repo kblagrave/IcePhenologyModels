{
 "cells": [
  {
   "cell_type": "code",
   "execution_count": 3,
   "metadata": {},
   "outputs": [],
   "source": [
    "import pickle\n",
    "import pandas as pd\n",
    "from sklearn.inspection import PartialDependenceDisplay\n",
    "import numpy as np\n",
    "from matplotlib import pyplot as plt\n",
    "import matplotlib\n",
    "\n",
    "\n",
    "\n",
    "chsize= 6\n",
    "labelsize=8\n",
    "annotation_txt_size = 7\n",
    "abcd_size = 8\n",
    "height_width_ratio = 2. / (1 + np.sqrt(5))\n",
    "\n",
    "one_column_width = 3.5 # inches (this is from author guidelines)\n",
    "two_column_width = 7.5 # inches (this is a guess)\n",
    "\n",
    "\n",
    "\n",
    "\n",
    "def plot_partial_dependence(rf, X, features,filename = None,\n",
    "                            nrows=None, ncols=None, chsize=6,labelsize=7,\n",
    "                            structured=False, fig_width = 183./25.4):\n",
    "\n",
    "    cleaned_labels = {'Shore_len':'Shoreline length (km)',\n",
    "                      'Depth_avg':'Mean depth (m)', \n",
    "                      'Lake_area': 'Lake area (km$^2$)',\n",
    "                      'Elevation': 'Elevation (m)',\n",
    "                      'Slope_100': 'Slope within 100 m (\\N{DEGREE SIGN})',\n",
    "                     'Shore_dev': 'Shoreline development',\n",
    "                     'TMINMAX_lagSON' : 'Fall temperature, $T_\\mathrm{SON}$ (K)',\n",
    "                      'TMINMAX_lagJJA': 'Summer temperature, $T_\\mathrm{JJA}$ (K)',\n",
    "                      'TMINMAX_DJF': 'Winter temperature, $T_\\mathrm{DJF}$ (K)',\n",
    "                     'TMINMAX_MAM': 'Spring temperature, $T_\\mathrm{MAM}$ (K)'}\n",
    "    if ncols is None:\n",
    "        if structured:\n",
    "            nrows = int(np.sqrt(len(features)))\n",
    "            ncols = nrows\n",
    "        else:\n",
    "            nrows = int(np.ceil(len(features) / 3))\n",
    "            ncols = np.min([3,len(features)])\n",
    "    \n",
    "    left_margin = 1.6 # inches\n",
    "    right_margin = 0.5 # inches\n",
    "    top_margin = 1.15 # inches\n",
    "    bottom_margin = 0.8 # inches\n",
    "    if structured:\n",
    "        w_gap =0.05\n",
    "        h_gap = 0.05\n",
    "    else:\n",
    "        w_gap = 0.5 # inches\n",
    "        h_gap = 0.6 # inches\n",
    "    \n",
    "   # inches\n",
    "    plot_width = (fig_width - left_margin - right_margin - (w_gap)*(ncols-1))/ncols\n",
    "    plot_height = plot_width\n",
    "    fig_height = bottom_margin + top_margin + plot_height*(nrows) + h_gap*(nrows-1)\n",
    "    \n",
    "    fig,axes =plt.subplots(nrows, ncols, figsize = (fig_width, fig_height), sharex='col',squeeze=False)\n",
    "    #levels = [-50,-40,-30,-20,-10,0,10]\n",
    "    mi, ma = -50, 10\n",
    "    norm = matplotlib.colors.Normalize(vmin=mi,vmax=ma)\n",
    "    bounds = [-47.8608595  ,-40.73487913, -33.60889877 ,-26.48291841 ,-19.35693805,\n",
    "            -12.23095769 , -5.10497732 ,  2.02100304]\n",
    "    if 'TMINMAX_MAM' in features:\n",
    "        bounds = [ 73.46915222 ,80.79657421 , 88.1239962,   95.45141819, 102.77884018,\n",
    " 110.10626217, 117.43368416 ,124.76110615]\n",
    "    cmap = matplotlib.cm.viridis\n",
    "    norm = matplotlib.colors.BoundaryNorm(bounds, cmap.N, extend='both')\n",
    "    pdp_display = PartialDependenceDisplay.from_estimator(rf,X,features=features,\n",
    "                                                          line_kw = dict(color='k'),\n",
    "                                            \n",
    "                                                          #contour_kw = dict(norm = norm), #levels=levels), \n",
    "                                            ax=axes.flatten()[:len(features)])\n",
    "    #return pdp_display\n",
    "    for i,ax in enumerate(axes.flatten()):\n",
    "        #if ax in [axes[0],axes[2]]:\n",
    "        #    ax.set_xscale('log')\n",
    "        #if ax == axes[2]:\n",
    "        #    for c in ax.get_children():\n",
    "        #        try:\n",
    "        #            c.set_fontsize(6)\n",
    "        #        except:\n",
    "        #            pass\n",
    "        col_num = i % ncols\n",
    "        row_num = i // ncols\n",
    "        if i >= len(features):\n",
    "            ax.set_visible(False)\n",
    "            continue\n",
    "        if isinstance(features[i],tuple):\n",
    "            xlabel = cleaned_labels[features[i][0]]\n",
    "            ylabel = cleaned_labels[features[i][1]]\n",
    "        else:\n",
    "            xlabel = cleaned_labels[features[i]]\n",
    "            ylabel = xlabel\n",
    "            \n",
    "        if (xlabel in ['Lake area (km$^2$)']):#,'Depth_avg','Elevation']:\n",
    "            ax.set_xscale('log')\n",
    "        #if (ylabel in ['Lake area (km$^2$)']):\n",
    "        #    ax.set_yscale('log')\n",
    "            \n",
    "        # remove labels from contours\n",
    "        if (ax.get_ylabel()!='Partial dependence'):\n",
    "            for c in ax.get_children():\n",
    "                try:\n",
    "                    # adjust fontsize\n",
    "                    c.set_fontsize(chsize)\n",
    "                    c.set_visible(False)\n",
    "                except:\n",
    "                    pass\n",
    "        if structured:\n",
    "            #fmt_dict = {str(i)+'.00':str(i) for i in levels}\n",
    "            #print(fmt_dict)\n",
    "            #try:\n",
    "            #    ax.clabel(pdp_display.contours_[row_num][col_num],fmt=fmt_dict)\n",
    "            #    print('yes')\n",
    "            #except:\n",
    "            #    pass\n",
    "            ax.set_ylabel('')\n",
    "            ax.set_xlabel('')\n",
    "            if col_num==row_num:\n",
    "                ax.tick_params(axis='y',direction='in',pad=-20,labelright=True,labelleft=False,left=False,right=True)\n",
    "            elif col_num == ncols-1:\n",
    "                ax.tick_params(axis='y',labelright=True, labelleft=False,left=False,right=True)\n",
    "            elif col_num!=0:\n",
    "                ax.tick_params(axis='y',labelleft=False,left=True,right=True,direction='in')\n",
    "            #if row_num==0:\n",
    "            #    tax = ax.set_title(xlabel,ha='left',rotation=45,fontsize = 6)\n",
    "            #    tax.set_visible(True)\n",
    "            if col_num == 0:\n",
    "                ax.set_ylabel(ylabel,rotation=0,ha='right',fontsize = labelsize)\n",
    "                if row_num==0:\n",
    "                    ax.set_ylabel(ylabel,rotation=0,ha='right',fontsize=labelsize,labelpad=20)\n",
    "            \n",
    "            #if row_num == nrows-1:\n",
    "            #    ax.set_xlabel(xlabel,ha='right',rotation=45,fontsize=6)\n",
    "            if row_num == 0:\n",
    "                ax.set_xlabel(xlabel,ha='left',rotation=45,fontsize=labelsize)\n",
    "                ax.xaxis.set_label_position('top') \n",
    "                ax.tick_params(axis='x', labelsize=chsize,labeltop=True, top=True, labelbottom=False,bottom=False)\n",
    "        \n",
    "        elif ((ax.get_ylabel()=='Partial dependence')) & (col_num!=0):\n",
    "            ax.set_ylabel('')\n",
    "            ax.set_xlabel(xlabel,fontsize=labelsize)\n",
    "        else:\n",
    "            ax.set_xlabel(xlabel,fontsize=labelsize)\n",
    "        \n",
    "        \n",
    "        #for key,value in cleaned_labels.items():\n",
    "        #    ax.set_ylabel(ax.get_ylabel().replace(key,value), fontsize=8)\n",
    "        #    ax.set_xlabel(ax.get_xlabel().replace(key,value), fontsize=8)\n",
    "        ax.tick_params(labelsize=chsize)\n",
    "\n",
    "        \n",
    "    #CS = matplotlib.contour.ContourSet(axes[nrows-1][:], levels =[-47.8608595  ,-40.73487913, -33.60889877 ,-26.48291841 ,-19.35693805,\n",
    "# -12.23095769 , -5.10497732 ,  2.02100304])\n",
    "    \n",
    "    if structured | (len([f for f in features if len(f)==2])>0):\n",
    "        cb = fig.colorbar(#CS,\n",
    "                          matplotlib.cm.ScalarMappable(norm=norm, cmap=cmap),anchor = (0.5,-.8),\n",
    "                          orientation='horizontal',ax = axes.flatten(), shrink=0.5, use_gridspec=True)\n",
    "        cb.ax.set_xlabel('Partial dependence (day of year)',fontsize = labelsize)\n",
    "        cb.ax.tick_params(axis='x',labelsize=chsize)\n",
    "    \n",
    "    \n",
    "    fig.subplots_adjust(wspace=w_gap/plot_width,left=left_margin/fig_width, right=1 - right_margin/fig_width,\n",
    "                        top=1 - top_margin/fig_height,bottom=bottom_margin/fig_height, hspace = h_gap / plot_height)\n",
    "    if filename is not None:\n",
    "        fig.savefig(f'/Users/blagrave/Projects/IcePhenologyModels/Figures/{filename}.png',dpi=300)\n",
    "        fig.savefig(f'/Users/blagrave/Projects/IcePhenologyModels/Figures/{filename}.pdf')\n",
    "    return pdp_display"
   ]
  },
  {
   "cell_type": "code",
   "execution_count": 4,
   "metadata": {},
   "outputs": [],
   "source": [
    "#pdp_display = plot_partial_dependence(rf, X, columns, filename=f'{file}_pdp', structured=True)"
   ]
  },
  {
   "cell_type": "code",
   "execution_count": 5,
   "metadata": {},
   "outputs": [],
   "source": [
    "#rf.oob_score_"
   ]
  },
  {
   "cell_type": "code",
   "execution_count": 6,
   "metadata": {},
   "outputs": [],
   "source": [
    "import matplotlib.gridspec as gridspec\n",
    "\n",
    "def plot_model_summary(rf, X, features, chsize=7, labelsize=7, width=88., labels=['(a)','(b)']):\n",
    "    \n",
    "    \n",
    "    ncols = len(features)*2\n",
    "    nrows = 2\n",
    "    top_margin = 0.1\n",
    "    bottom_margin = 0.7\n",
    "    left_margin = 0.8\n",
    "    right_margin = 0.2\n",
    "    w_gap = 0.05\n",
    "    h_gap = 0.5\n",
    "    spec_row_ratio = 1 / 0.5\n",
    "    print(spec_row_ratio)\n",
    "    #print(one_column_width)\n",
    "    fig_width = one_column_width # inches\n",
    "    \n",
    "    # width and height of partial dependence plots\n",
    "    plot_width = ((fig_width - left_margin - right_margin - (w_gap)*(ncols-1))/ncols)*2+w_gap\n",
    "    \n",
    "    plot_height = plot_width #* spec_row_ratio\n",
    "    \n",
    "    col_width = (plot_width - w_gap)/2\n",
    "    \n",
    "    #print('plot_width',plot_width)\n",
    "    avg_plot_height = plot_height * (1 + spec_row_ratio)/2.\n",
    "    fig_height = bottom_margin + top_margin + plot_height + plot_height*spec_row_ratio + h_gap*(nrows-1)\n",
    "    #print('fig_height',fig_height)\n",
    "\n",
    "\n",
    "    \n",
    "    cleaned_labels = {'Shore_len':'Shoreline length (km)',\n",
    "                      'Depth_avg':'Mean depth (m)', \n",
    "                      'Lake_area': 'Lake area (km$^2$)',\n",
    "                      'Elevation': 'Elevation (m)',\n",
    "                      'Slope_100': 'Slope within 100 m (\\N{DEGREE SIGN})',\n",
    "                     'Shore_dev': 'Shoreline development',\n",
    "                      'SNOW_DJF':'Winter snowfall (mm)',\n",
    "                      'PRCP_MAM':'Spring precipitation (mm)',\n",
    "                     'TMINMAX_lagSON' : #'Fall temperature\\n\n",
    "                          '$T_\\mathrm{SON}$ (\\N{DEGREE SIGN}C)',\n",
    "                      'TMINMAX_lagJJA': #'Summer temperature\\n\n",
    "                          '$T_\\mathrm{JJA}$ (\\N{DEGREE SIGN}C)',\n",
    "                      'TMINMAX_DJF': #'Winter temperature\\n\n",
    "                          '$T_\\mathrm{DJF}$ (\\N{DEGREE SIGN}C)',\n",
    "                     'TMINMAX_MAM': #'Spring temperature\\n'\n",
    "                          '$T_\\mathrm{MAM}$ (\\N{DEGREE SIGN}C)'}\n",
    "    cleaned_labels_min = {i:j.replace(' ','\\n') for i,j in cleaned_labels.items() if ('Slope' not in i) }\n",
    "    cleaned_labels_min['Slope_100'] = 'Slope\\nwithin\\n100 m (\\N{DEGREE SIGN})'\n",
    "    \n",
    "    #fig = plt.figure(figsize=(width/25.4, 88./25.4*0.85))\n",
    "    fig = plt.figure(figsize = (fig_width, fig_height))\n",
    "    \n",
    "    spec = gridspec.GridSpec(ncols=ncols,nrows=nrows, \n",
    "                             figure=fig, height_ratios=[spec_row_ratio,1.0])\n",
    "    axes = []\n",
    "    f_ax1 = fig.add_subplot(spec[0,1:ncols])\n",
    "    f_ax1.set_ylabel('',fontsize=labelsize,labelpad=4)\n",
    "    f_ax1.set_xlabel('Variable importance',fontsize=labelsize)\n",
    "\n",
    "    \n",
    "    axes.append(f_ax1)\n",
    "    \n",
    "    for i in range(len(features)):\n",
    "        if i == 0:\n",
    "            axes.append(fig.add_subplot(spec[1,i:i+2]))\n",
    "        else:\n",
    "            axes.append(fig.add_subplot(spec[1,i*2:i*2+2],sharey=axes[1]))\n",
    "            axes[i+1].tick_params(axis='y',labelleft=False)\n",
    "        axes[i+1].tick_params(axis='both',labelsize=chsize)\n",
    "    \n",
    "    ax = axes[0]\n",
    "    ax.tick_params(axis='both',labelsize=chsize)\n",
    "    \n",
    "    feature_importances = pd.Series(rf.feature_importances_, index=X.rename(cleaned_labels,axis=1).columns).sort_values(ascending=True)\n",
    "    \n",
    "    display(feature_importances.sort_values(ascending=False))\n",
    "    ax.barh(feature_importances.index, feature_importances.values,facecolor='0.8',lw =0.5, height=0.7,edgecolor='k')\n",
    "    \n",
    "    #ax.yaxis.labelpad = 25\n",
    "    \n",
    "    pdp_display = PartialDependenceDisplay.from_estimator(rf,X,features=features,\n",
    "                                                          line_kw = dict(color='k'),\n",
    "                                            \n",
    "                                                          #contour_kw = dict(norm = norm), #levels=levels), \n",
    "                                            ax=axes[1:])\n",
    "    for ax in axes[1:]:\n",
    "        if ax.get_xlabel() in ['Lake_area','Depth_avg']:\n",
    "            #ax.axvline(9)\n",
    "            ax.set_xscale('log')\n",
    "    for ax in pdp_display.axes_:\n",
    "        xlabel = ax.get_xlabel()\n",
    "        ax.set_xlabel(cleaned_labels_min[xlabel],fontsize=labelsize)\n",
    "        ax.set_ylabel(ax.get_ylabel(),fontsize=labelsize-2)\n",
    "    for ax in axes[2:]:\n",
    "        ax.set_ylabel('')\n",
    "        \n",
    "    #axes[0].text(-0.69 ,0.95,labels[0],fontsize=abcd_size,weight='bold',transform=axes[0].transAxes)\n",
    "    #axes[1].text(-1.1,1.2,labels[1],fontsize=abcd_size,weight='bold',transform=axes[1].transAxes)\n",
    "    axes[0].text(0.02,0.98,labels[0],ha='left',va='top',\n",
    "        transform=fig.transFigure,weight='bold',fontsize=abcd_size)\n",
    "    axes[0].text(0.02,0.47,labels[1],ha='left',va='top',\n",
    "        transform=fig.transFigure,weight='bold',fontsize=abcd_size)\n",
    "\n",
    "    \n",
    "    fig.subplots_adjust(hspace=h_gap/avg_plot_height,\n",
    "                        wspace=w_gap/col_width,\n",
    "                        bottom=bottom_margin/fig_height,\n",
    "                        left=left_margin/fig_width,\n",
    "                        right=1-right_margin/fig_width,\n",
    "                        top=1-top_margin/fig_height)\n",
    "    return fig\n",
    "    \n",
    "\n",
    "    \n",
    "    \n",
    "    "
   ]
  },
  {
   "cell_type": "code",
   "execution_count": 7,
   "metadata": {},
   "outputs": [
    {
     "name": "stdout",
     "output_type": "stream",
     "text": [
      "2.0\n"
     ]
    },
    {
     "data": {
      "text/plain": [
       "$T_\\mathrm{SON}$ (°C)    0.387790\n",
       "$T_\\mathrm{DJF}$ (°C)    0.171912\n",
       "Mean depth (m)           0.156135\n",
       "Lake area (km$^2$)       0.139672\n",
       "$T_\\mathrm{JJA}$ (°C)    0.082291\n",
       "Elevation (m)            0.062199\n",
       "dtype: float64"
      ]
     },
     "metadata": {},
     "output_type": "display_data"
    },
    {
     "name": "stdout",
     "output_type": "stream",
     "text": [
      "2.24\n",
      "On prediction:  [-3.05128205]\n"
     ]
    },
    {
     "data": {
      "image/png": "[encoded data removed]",
      "text/plain": [
       "<Figure size 252x220.5 with 5 Axes>"
      ]
     },
     "metadata": {
      "needs_background": "light"
     },
     "output_type": "display_data"
    }
   ],
   "source": [
    "suffix = '_v10b'\n",
    "\n",
    "suffix = '_v11'\n",
    "file = f'rf_iceon_limited_seasonal_8params{suffix}'\n",
    "\n",
    "with open(f'/Users/blagrave/Projects/IcePhenologyModels/Models/{file}.pickle', 'rb') as f:\n",
    "    rf = pickle.load(f)\n",
    "    \n",
    "if suffix not in ['_v10b','_v11']:\n",
    "    columns = ['TMINMAX_lagSON','Slope_100','TMINMAX_DJF', 'Lake_area'] #,('Lake_area','Slope_100')]\n",
    "else:\n",
    "    columns = ['TMINMAX_lagSON','TMINMAX_DJF', 'Depth_avg','Lake_area'] #,('Lake_area','Slope_100')]\n",
    "\n",
    "\n",
    "    \n",
    "X = pd.read_csv(f'/Users/blagrave/Projects/IcePhenologyModels/Models/{file}_input.csv')\n",
    "fig = plot_model_summary(rf, X, columns,labelsize=labelsize,chsize=chsize)\n",
    "fig.savefig('/Users/blagrave/Projects/IcePhenologyModels/Figures/ice_on_model_summary.pdf')\n",
    "fig.savefig('/Users/blagrave/Projects/IcePhenologyModels/Figures/ice_on_model_summary.png',dpi=300)\n",
    "\n",
    "\n",
    "print(X['TMINMAX_DJF'].max())\n",
    "print('On prediction: ',rf.oob_prediction_[X['TMINMAX_DJF']==X['TMINMAX_DJF'].max()])\n",
    "\n"
   ]
  },
  {
   "cell_type": "code",
   "execution_count": null,
   "metadata": {},
   "outputs": [],
   "source": []
  },
  {
   "cell_type": "code",
   "execution_count": 8,
   "metadata": {},
   "outputs": [],
   "source": [
    "#X[X['TMINMAX_DJF']==2.24]\n",
    "#rf.oob_prediction_[X['TMINMAX_DJF']==2.24]\n",
    "\n"
   ]
  },
  {
   "cell_type": "code",
   "execution_count": 9,
   "metadata": {},
   "outputs": [
    {
     "name": "stdout",
     "output_type": "stream",
     "text": [
      "2.0\n"
     ]
    },
    {
     "data": {
      "text/plain": [
       "$T_\\mathrm{MAM}$ (°C)        0.553651\n",
       "$T_\\mathrm{DJF}$ (°C)        0.172823\n",
       "$T_\\mathrm{SON}$ (°C)        0.052029\n",
       "Winter snowfall (mm)         0.051763\n",
       "Elevation (m)                0.048583\n",
       "$T_\\mathrm{JJA}$ (°C)        0.046459\n",
       "Spring precipitation (mm)    0.042854\n",
       "Shoreline development        0.031838\n",
       "dtype: float64"
      ]
     },
     "metadata": {},
     "output_type": "display_data"
    },
    {
     "name": "stdout",
     "output_type": "stream",
     "text": [
      "2.24 12.534782608695652 14.103846153846154\n",
      "Off prediction:  [64.6]\n"
     ]
    },
    {
     "data": {
      "image/png": "[encoded data removed]",
      "text/plain": [
       "<Figure size 252x220.5 with 5 Axes>"
      ]
     },
     "metadata": {
      "needs_background": "light"
     },
     "output_type": "display_data"
    }
   ],
   "source": [
    "suffix = 'B_v11'\n",
    "file = f'rf_iceoff_limited_seasonal_6params{suffix}'\n",
    "with open(f'/Users/blagrave/Projects/IcePhenologyModels/Models/{file}.pickle', 'rb') as f:\n",
    "    rf = pickle.load(f)\n",
    "if suffix not in ['_v10b','_v11','B_v11']:\n",
    "    columns = ['TMINMAX_MAM','TMINMAX_DJF','Elevation','Slope_100'] #,('Lake_area','Slope_100')]\n",
    "else:\n",
    "    columns = ['TMINMAX_MAM','TMINMAX_DJF','TMINMAX_lagSON','TMINMAX_lagJJA'] #,('Lake_area','Slope_100')]\n",
    "    columns = ['TMINMAX_MAM','TMINMAX_DJF','Elevation','Shore_dev'] #,('Lake_area','Slope_100')]\n",
    "    columns = ['TMINMAX_MAM','TMINMAX_DJF','SNOW_DJF','PRCP_MAM'] #,('Lake_area','Slope_100')]\n",
    "\n",
    "\n",
    "    \n",
    "\n",
    "X = pd.read_csv(f'/Users/blagrave/Projects/IcePhenologyModels/Models/{file}_input.csv')\n",
    "fig = plot_model_summary(rf, X, columns,labelsize=labelsize,chsize=chsize)\n",
    "fig.savefig('/Users/blagrave/Projects/IcePhenologyModels/Figures/ice_off_model_summary.pdf')\n",
    "fig.savefig('/Users/blagrave/Projects/IcePhenologyModels/Figures/ice_off_model_summary.png',dpi=300)\n",
    "\n",
    "print(X['TMINMAX_DJF'].max(), X['TMINMAX_MAM'].max(), X['TMINMAX_lagSON'].max())\n",
    "print('Off prediction: ',rf.oob_prediction_[X['TMINMAX_DJF']==X['TMINMAX_DJF'].max()])\n"
   ]
  },
  {
   "cell_type": "code",
   "execution_count": 149,
   "metadata": {},
   "outputs": [
    {
     "name": "stdout",
     "output_type": "stream",
     "text": [
      "7.0 3.0625\n"
     ]
    },
    {
     "ename": "NameError",
     "evalue": "name 'format_axes' is not defined",
     "output_type": "error",
     "traceback": [
      "\u001b[0;31m---------------------------------------------------------------------------\u001b[0m",
      "\u001b[0;31mNameError\u001b[0m                                 Traceback (most recent call last)",
      "\u001b[0;32m/var/folders/sd/xlwt40n56h1f5l08cxsb644r0000gn/T/ipykernel_28278/3812415410.py\u001b[0m in \u001b[0;36m<module>\u001b[0;34m\u001b[0m\n\u001b[1;32m     35\u001b[0m \"\"\"\n\u001b[1;32m     36\u001b[0m \u001b[0;31m#fig_final.suptitle(\"GridSpec\")\u001b[0m\u001b[0;34m\u001b[0m\u001b[0;34m\u001b[0m\u001b[0;34m\u001b[0m\u001b[0m\n\u001b[0;32m---> 37\u001b[0;31m \u001b[0mformat_axes\u001b[0m\u001b[0;34m(\u001b[0m\u001b[0mfig_final\u001b[0m\u001b[0;34m)\u001b[0m\u001b[0;34m\u001b[0m\u001b[0;34m\u001b[0m\u001b[0m\n\u001b[0m\u001b[1;32m     38\u001b[0m \u001b[0mfig_final\u001b[0m\u001b[0;34m.\u001b[0m\u001b[0msavefig\u001b[0m\u001b[0;34m(\u001b[0m\u001b[0;34m'/Users/blagrave/Projects/IcePhenologyModels/Figures/foo.pdf'\u001b[0m\u001b[0;34m)\u001b[0m\u001b[0;34m\u001b[0m\u001b[0;34m\u001b[0m\u001b[0m\n\u001b[1;32m     39\u001b[0m \u001b[0;34m\u001b[0m\u001b[0m\n",
      "\u001b[0;31mNameError\u001b[0m: name 'format_axes' is not defined"
     ]
    },
    {
     "data": {
      "image/png": "[encoded data removed]",
      "text/plain": [
       "<Figure size 504x220.5 with 2 Axes>"
      ]
     },
     "metadata": {
      "needs_background": "light"
     },
     "output_type": "display_data"
    }
   ],
   "source": [
    "fig_final = plt.figure(figsize=(fig_width, fig_height))\n",
    "\n",
    "print(fig_width, fig_height)\n",
    "\n",
    "spec1 = gridspec.GridSpec(ncols=8, nrows=2, figure =fig_final,height_ratios=[spec_row_ratio,1])\n",
    "spec1.update(hspace=h_gap/avg_plot_height,\n",
    "             wspace=w_gap/col_width,\n",
    "             top = 1 - top_margin/fig_height,\n",
    "             bottom=bottom_margin/fig_height,\n",
    "            left=left_margin/fig_width, \n",
    "             right=(fig_width/2. - right_margin)/fig_width)\n",
    "\n",
    "\n",
    "spec2 = gridspec.GridSpec(ncols=8, nrows=2, figure=fig_final,height_ratios=[spec_row_ratio,1])\n",
    "spec2.update(hspace=h_gap/avg_plot_height, \n",
    "             wspace = w_gap/col_width,\n",
    "             top = 1 - top_margin/fig_height,\n",
    "             bottom=bottom_margin/fig_height,\n",
    "            left=(fig_width/2. + left_margin)/fig_width, \n",
    "             right=1 - right_margin/fig_width)\n",
    "\n",
    "\n",
    "ax6 = fig_final.add_subplot(spec1[:,:])\n",
    "ax7 = fig_final.add_subplot(spec2[:,:])\n",
    "\n",
    "\n",
    "\"\"\"\n",
    "gs = gridspec.GridSpec(3, 3, figure=fig_final)\n",
    "ax1 = fig_final.add_subplot(gs[0, :])\n",
    "# identical to ax1 = plt.subplot(gs.new_subplotspec((0, 0), colspan=3))\n",
    "ax2 = fig_final.add_subplot(gs[1, :-1])\n",
    "ax3 = fig_final.add_subplot(gs[1:, -1])\n",
    "ax4 = fig_final.add_subplot(gs[-1, 0])\n",
    "ax5 = fig_final.add_subplot(gs[-1, -2])\n",
    "\"\"\"\n",
    "#fig_final.suptitle(\"GridSpec\")\n",
    "format_axes(fig_final)\n",
    "fig_final.savefig('/Users/blagrave/Projects/IcePhenologyModels/Figures/foo.pdf')\n",
    "\n"
   ]
  },
  {
   "cell_type": "code",
   "execution_count": 12,
   "metadata": {},
   "outputs": [
    {
     "name": "stdout",
     "output_type": "stream",
     "text": [
      "3.0625 7.0\n",
      "0.5673758865248226 0.186046511627907 0.9673469387755103 0.22857142857142856 0.1142857142857143 0.4714285714285714\n",
      "2.0\n"
     ]
    },
    {
     "data": {
      "text/plain": [
       "$T_\\mathrm{SON}$ (°C)    0.387790\n",
       "$T_\\mathrm{DJF}$ (°C)    0.171912\n",
       "Mean depth (m)           0.156135\n",
       "Lake area (km$^2$)       0.139672\n",
       "$T_\\mathrm{JJA}$ (°C)    0.082291\n",
       "Elevation (m)            0.062199\n",
       "dtype: float64"
      ]
     },
     "metadata": {},
     "output_type": "display_data"
    },
    {
     "name": "stdout",
     "output_type": "stream",
     "text": [
      "2.0\n"
     ]
    },
    {
     "data": {
      "text/plain": [
       "$T_\\mathrm{MAM}$ (°C)    0.572297\n",
       "$T_\\mathrm{DJF}$ (°C)    0.199356\n",
       "$T_\\mathrm{SON}$ (°C)    0.067858\n",
       "$T_\\mathrm{JJA}$ (°C)    0.062087\n",
       "Elevation (m)            0.057138\n",
       "Shoreline development    0.041265\n",
       "dtype: float64"
      ]
     },
     "metadata": {},
     "output_type": "display_data"
    },
    {
     "data": {
      "image/png": "[encoded data removed]",
      "text/plain": [
       "<Figure size 504x220.5 with 10 Axes>"
      ]
     },
     "metadata": {
      "needs_background": "light"
     },
     "output_type": "display_data"
    }
   ],
   "source": [
    "suffix = '_v10b'\n",
    "suffix = '_v11'\n",
    "\n",
    "fig_width = one_column_width*2\n",
    "\n",
    "\n",
    "ncols = 4*2\n",
    "nrows = 2\n",
    "# in inches\n",
    "top_margin = 0.2\n",
    "bottom_margin = 0.7\n",
    "left_margin = 0.8\n",
    "right_margin = 0.2\n",
    "w_gap = 0.2\n",
    "h_gap = 0.6\n",
    "spec_row_ratio = 1 / 0.5\n",
    "top_margin = 0.1\n",
    "bottom_margin = 0.7\n",
    "left_margin = 0.8\n",
    "right_margin = 0.2\n",
    "w_gap = 0.05\n",
    "h_gap = 0.5\n",
    "spec_row_ratio = 1 / 0.5\n",
    "\n",
    "plot_width = (fig_width - left_margin*2 - right_margin*2 - (w_gap)*(ncols-1)*2)/(ncols*2) * 2 + w_gap\n",
    "\n",
    "plot_height = plot_width #* spec_row_ratio\n",
    "\n",
    "avg_plot_height = plot_height * (1 + spec_row_ratio)/2.\n",
    "\n",
    "col_width = (plot_width - w_gap)/2\n",
    "\n",
    "#print('plot_width',plot_width)\n",
    "#fig_height = bottom_margin + top_margin + plot_height+ plot_height* + spec_row_ratio*h_gap*(nrows-1)\n",
    "fig_height = bottom_margin + top_margin + plot_height + plot_height*spec_row_ratio + h_gap*(nrows-1)\n",
    "\n",
    "\n",
    "print(fig_height,fig_width)\n",
    "\n",
    "fig_final = plt.figure(figsize=(fig_width, fig_height))\n",
    "\n",
    "#fig_final.subplots_adjust(left=0,right=1,\n",
    "#                         top = 1, bottom=0,\n",
    "#                         wspace = 0, hspace=0)\n",
    "\n",
    "# create a 2 rows 8 column container\n",
    "spec1 = gridspec.GridSpec(ncols=8, nrows=2, figure =fig_final,\n",
    "                          height_ratios=[spec_row_ratio,1])\n",
    "#spec1.update(right=0.5,left=0.0)\n",
    "#spec1.update(hspace=0.5,bottom=bottom,left=0.21/2.,right=0.5-0.02/2.,top=0.98)\n",
    "print(h_gap/avg_plot_height, w_gap/col_width, \n",
    "      1-top_margin/fig_height,\n",
    "      bottom_margin/fig_height,\n",
    "     left_margin/fig_width, (fig_width/2. - right_margin)/fig_width)\n",
    "spec1.update(hspace=h_gap/avg_plot_height,\n",
    "             wspace=w_gap/col_width,\n",
    "             top = 1 - top_margin/fig_height,\n",
    "             bottom=bottom_margin/fig_height,\n",
    "             left = left_margin/(fig_width/2.),\n",
    "             right = 1 - right_margin/ (fig_width/2.))\n",
    "#            left=left_margin/fig_width, \n",
    "#             right=(fig_width/2. - right_margin)/fig_width)\n",
    "\n",
    "\n",
    "#spec1.update(hspace=0,wspace=0,top=1,bottom=0,left=0,right=1)\n",
    "spec2 = None\n",
    "\n",
    "# create another one\n",
    "spec2 = gridspec.GridSpec(ncols=8, nrows=2, figure=fig_final,height_ratios=[spec_row_ratio,1])\n",
    "#spec2.update(left=0.5,right=1.0)\n",
    "#spec2.update(hspace=0.5,bottom=bottom,left=0.5+0.21/2.,right=1.0-0.02/2.,top=0.98)\n",
    "spec2.update(hspace=h_gap/avg_plot_height, \n",
    "             wspace = w_gap/col_width,\n",
    "             top = 1 - top_margin/fig_height,\n",
    "             bottom=bottom_margin/fig_height,\n",
    "             left = left_margin/(fig_width/2.),\n",
    "             right = 1 - right_margin/(fig_width/2.))\n",
    "            #left=(fig_width/2. + left_margin)/fig_width, \n",
    "            # right=1 - right_margin/fig_width)\n",
    "#spec2.update(hspace=0,wspace=0,top=1,bottom=0,left=0,right=1)\n",
    "\n",
    "\n",
    "#ncol = 0\n",
    "for file,spec in zip([f'rf_iceon_limited_seasonal_8params{suffix}',f'rf_iceoff_limited_seasonal_6params{suffix}'],\n",
    "                     [spec1,spec2]):\n",
    "    if spec is None:\n",
    "        continue\n",
    "    with open(f'/Users/blagrave/Projects/IcePhenologyModels/Models/{file}.pickle', 'rb') as f:\n",
    "        rf = pickle.load(f)\n",
    "        \n",
    "    if 'iceon' in file:\n",
    "        columns = ['TMINMAX_lagSON','TMINMAX_DJF', 'Depth_avg','Lake_area'] #,('Lake_area','Slope_100')]\n",
    "        labels= ['(a)','(c)']\n",
    "    else:\n",
    "        columns = ['TMINMAX_MAM','TMINMAX_DJF','Elevation','Shore_dev'] #,('Lake_area','Slope_100')]\n",
    "        labels = ['','']\n",
    "        #labels = ['(b)','(d)']\n",
    "\n",
    "    X = pd.read_csv(f'/Users/blagrave/Projects/IcePhenologyModels/Models/{file}_input.csv')\n",
    "    \n",
    "    fig = plot_model_summary(rf, X, columns,width=two_column_width,\n",
    "                             labelsize=labelsize,chsize=chsize,labels=labels)\n",
    "    fig.savefig('/Users/blagrave/Projects/IcePhenologyModels/Figures/foo.pdf')\n",
    "    #print(fig.get_size_inches())\n",
    "\n",
    "    axes = fig.get_axes()\n",
    "    #fig_final = plt.figure(figsize=(fig.get_size_inches()[0]*2,fig.get_size_inches()[1]))\n",
    "    \n",
    "    for jj,ax in enumerate(axes):\n",
    "        \n",
    "        # remove axis from fig object\n",
    "        ax.remove()\n",
    "        \n",
    "        # assign ax to fig_final object\n",
    "        ax.figure=fig_final\n",
    "        \n",
    "        fig_final.axes.append(ax)\n",
    "        fig_final.add_axes(ax)\n",
    "        \n",
    "        if jj == 0:\n",
    "            #dummy = fig_final.add_subplot(111)\n",
    "            dummy = fig_final.add_subplot(spec[0,1:])\n",
    "            \n",
    "        elif jj == 1:\n",
    "            dummy = fig_final.add_subplot(spec[1,:2])\n",
    "        else:\n",
    "            #print('\\t',(jj-1)*2, (jj-1)*2+2)\n",
    "            dummy = fig_final.add_subplot(spec[1,(jj-1)*2:(jj-1)*2+2])#,sharey=axes[1]))\n",
    "            \n",
    "        #print(ax.bbox.get_points())\n",
    "        # get actual coordinates\n",
    "        # set position of ax, in figure coordinates -- based on spec\n",
    "        \n",
    "        #fig_final_ax_position = dummy.get_position().bounds\n",
    "        bounds = np.array(dummy.get_position().bounds)\n",
    "        \n",
    "        if spec == spec2:\n",
    "            bounds[0] = bounds[0] + 1\n",
    "\n",
    "        ax.set_position(bounds)\n",
    "        #print(bounds)\n",
    "        #print(jj, dummy.get_position(), ax.get_position())\n",
    "        dummy.remove()\n",
    "        #break\n",
    "    #ncol = ncol + 1\n",
    "        #break\n",
    "    if spec==spec2:\n",
    "        \n",
    "        ax.text(0.5+0.02/2,0.98,'(b)',ha='left',va='top',\n",
    "            transform=fig_final.transFigure,weight='bold',fontsize=abcd_size)\n",
    "        ax.text(0.5+0.02/2,0.47,'(d)',ha='left',va='top',\n",
    "            transform=fig_final.transFigure,weight='bold',fontsize=abcd_size)\n",
    "\n",
    "\n",
    "    plt.close(fig)\n",
    "#fig_final.subplots_adjust(left=0,right=1,bottom=0,top=1)\n",
    "#fig_final.tight_layout()\n",
    "#fig.savefig('/Users/blagrave/Projects/IcePhenologyModels/Figures/ice_off_model_summary.pdf')\n",
    "#fig.savefig('/Users/blagrave/Projects/IcePhenologyModels/Figures/ice_off_model_summary.png',dpi=300)\n",
    "fig_final.savefig('/Users/blagrave/Projects/IcePhenologyModels/Figures/ice_onoff_model_summary.pdf')\n",
    "#fig_final.savefig('/Users/blagrave/Projects/IcePhenologyModels/Figures/ice_onoff_model_summary.png',dpi=300)\n",
    "\n",
    "\n",
    "plt.show()"
   ]
  },
  {
   "cell_type": "code",
   "execution_count": 95,
   "metadata": {},
   "outputs": [
    {
     "data": {
      "image/png": "[encoded data removed]",
      "text/plain": [
       "<Figure size 432x288 with 17 Axes>"
      ]
     },
     "metadata": {},
     "output_type": "display_data"
    },
    {
     "data": {
      "image/png": "[encoded data removed]",
      "text/plain": [
       "<Figure size 432x288 with 17 Axes>"
      ]
     },
     "metadata": {},
     "output_type": "display_data"
    }
   ],
   "source": [
    "def display_gridspec(spec,fig=None):\n",
    "    if fig is None:\n",
    "        fig = plt.figure()\n",
    "        \n",
    "    ax0 = fig.add_subplot(111)\n",
    "    ax0.tick_params(labelbottom=False, labelleft=False)\n",
    "    fig.subplots_adjust(bottom=0,top=1,left=0,right=1)\n",
    "    ii = 0\n",
    "    for i in spec:\n",
    "        ax0 = fig.add_subplot(i)\n",
    "        ax0.tick_params(labelbottom=False, labelleft=False)\n",
    "        ax0.text(0.5,0.5,ii,fontsize=6,ha='center',va='center')\n",
    "        ii = ii+1\n",
    "    return fig\n",
    "        \n",
    "fig = display_gridspec(spec2,fig=None)"
   ]
  },
  {
   "cell_type": "code",
   "execution_count": 110,
   "metadata": {},
   "outputs": [
    {
     "name": "stdout",
     "output_type": "stream",
     "text": [
      "1.6666666666666667\n"
     ]
    },
    {
     "data": {
      "text/plain": [
       "$T_\\mathrm{MAM}$ (°C)    0.572297\n",
       "$T_\\mathrm{DJF}$ (°C)    0.199356\n",
       "$T_\\mathrm{SON}$ (°C)    0.067858\n",
       "$T_\\mathrm{JJA}$ (°C)    0.062087\n",
       "Elevation (m)            0.057138\n",
       "Shoreline development    0.041265\n",
       "dtype: float64"
      ]
     },
     "metadata": {},
     "output_type": "display_data"
    },
    {
     "name": "stdout",
     "output_type": "stream",
     "text": [
      "[0.         0.54545455 1.         0.45454545]\n"
     ]
    },
    {
     "data": {
      "image/png": "[encoded data removed]",
      "text/plain": [
       "<Figure size 252x199.2 with 5 Axes>"
      ]
     },
     "metadata": {
      "needs_background": "light"
     },
     "output_type": "display_data"
    },
    {
     "data": {
      "image/png": "[encoded data removed]",
      "text/plain": [
       "<Figure size 504x199.2 with 18 Axes>"
      ]
     },
     "metadata": {
      "needs_background": "light"
     },
     "output_type": "display_data"
    }
   ],
   "source": [
    "fig1 = plot_model_summary(rf, X, columns,width=two_column_width,\n",
    "                             labelsize=labelsize,chsize=chsize,labels=labels)\n",
    "fig1.savefig('/Users/blagrave/Projects/IcePhenologyModels/Figures/foo1.pdf')\n",
    "\n",
    "\n",
    "fig_width,fig_height = fig1.get_size_inches()\n",
    "\n",
    "fig_width = fig_width*2\n",
    "\n",
    "\n",
    "fig2 = plt.figure(figsize = (fig_width, fig_height))\n",
    "\n",
    "\n",
    "spec1 = gridspec.GridSpec(ncols=8, nrows=2, figure =fig2,\n",
    "                          height_ratios=[spec_row_ratio,1])\n",
    "\n",
    "spec1.update(hspace=h_gap/avg_plot_height,\n",
    "             wspace=w_gap/col_width,\n",
    "             top = 1 - top_margin/fig_height,\n",
    "             bottom=bottom_margin/fig_height,\n",
    "            left=left_margin/fig_width, \n",
    "             right=(fig_width/2. - right_margin)/fig_width)\n",
    "\n",
    "fig00 = display_gridspec(spec1,fig=fig2)\n",
    "\n",
    "\n",
    "for jj,ax in enumerate(fig1.get_axes()):\n",
    "    \n",
    "    ax.figure = fig2\n",
    "    fig2.axes.append(ax)\n",
    "    fig2.add_axes(ax)\n",
    "    \n",
    "    if jj == 0:\n",
    "        dummy = fig2.add_subplot(2,1,1) # 2 rows; 1 column\n",
    "        #dummy = fig2.add_subplot(spec1[0,2:])\n",
    "\n",
    "    elif jj == 1:\n",
    "        #dummy = fig_final.add_subplot(spec1[1,:2])\n",
    "        dummy = fig2.add_subplot(2,4,4+jj)\n",
    "    else:\n",
    "        dummy = fig2.add_subplot(2,4,4+jj)\n",
    "        #dummy = fig2.add_subplot(spec1[1,(jj-1)*2:(jj-1)*2+2])#,sharey=axes[1]))\n",
    "         \n",
    "    bounds = np.array(dummy.get_position().bounds)\n",
    "    print(bounds)\n",
    "    bounds[0] = bounds[0] + 1\n",
    "    \n",
    "    ax.set_position(bounds)\n",
    "    dummy.remove()\n",
    "    break\n",
    "plt.close(fig)\n",
    "fig2.savefig('/Users/blagrave/Projects/IcePhenologyModels/Figures/foo2.pdf')\n"
   ]
  },
  {
   "cell_type": "code",
   "execution_count": 57,
   "metadata": {},
   "outputs": [
    {
     "name": "stdout",
     "output_type": "stream",
     "text": [
      "1.6666666666666667\n"
     ]
    },
    {
     "data": {
      "text/plain": [
       "$T_\\mathrm{MAM}$ (°C)    0.572297\n",
       "$T_\\mathrm{DJF}$ (°C)    0.199356\n",
       "$T_\\mathrm{SON}$ (°C)    0.067858\n",
       "$T_\\mathrm{JJA}$ (°C)    0.062087\n",
       "Elevation (m)            0.057138\n",
       "Shoreline development    0.041265\n",
       "dtype: float64"
      ]
     },
     "metadata": {},
     "output_type": "display_data"
    },
    {
     "data": {
      "image/png": "[encoded data removed]",
      "text/plain": [
       "<Figure size 252x199.2 with 4 Axes>"
      ]
     },
     "metadata": {
      "needs_background": "light"
     },
     "output_type": "display_data"
    },
    {
     "data": {
      "image/png": "[encoded data removed]",
      "text/plain": [
       "<Figure size 252x199.2 with 1 Axes>"
      ]
     },
     "metadata": {
      "needs_background": "light"
     },
     "output_type": "display_data"
    }
   ],
   "source": [
    "import matplotlib.pyplot as plt\n",
    "\n",
    "fig1 = plot_model_summary(rf, X, columns,width=two_column_width,\n",
    "                             labelsize=labelsize,chsize=chsize,labels=labels)\n",
    "ax = fig1.get_axes()[0]\n",
    "\n",
    "fig1.savefig('/Users/blagrave/Projects/IcePhenologyModels/Figures/foo1.pdf')\n",
    "\n",
    "ax.remove()\n",
    "\n",
    "fig2 = plt.figure(figsize=fig1.get_size_inches())\n",
    "ax.figure=fig2\n",
    "fig2.axes.append(ax)\n",
    "fig2.add_axes(ax)\n",
    "\n",
    "dummy = fig2.add_subplot(111)\n",
    "ax.set_position(dummy.get_position())\n",
    "dummy.remove()\n",
    "\n",
    "\n",
    "fig2.savefig('/Users/blagrave/Projects/IcePhenologyModels/Figures/foo2.pdf')\n",
    "\n",
    "plt.show()"
   ]
  },
  {
   "cell_type": "code",
   "execution_count": 26,
   "metadata": {},
   "outputs": [
    {
     "data": {
      "text/plain": [
       "TMINMAX_lagSON    0.380276\n",
       "Slope_100         0.194859\n",
       "TMINMAX_DJF       0.132456\n",
       "Lake_area         0.110712\n",
       "TMINMAX_lagJJA    0.067405\n",
       "Depth_avg         0.048500\n",
       "Elevation         0.037480\n",
       "Shore_dev         0.028312\n",
       "dtype: float64"
      ]
     },
     "metadata": {},
     "output_type": "display_data"
    },
    {
     "name": "stdout",
     "output_type": "stream",
     "text": [
      "0.7630798159327896\n",
      "(2294, 8) (73, 8)\n"
     ]
    },
    {
     "ename": "KeyboardInterrupt",
     "evalue": "",
     "output_type": "error",
     "traceback": [
      "\u001b[0;31m---------------------------------------------------------------------------\u001b[0m",
      "\u001b[0;31mKeyboardInterrupt\u001b[0m                         Traceback (most recent call last)",
      "\u001b[0;32m/var/folders/sd/xlwt40n56h1f5l08cxsb644r0000gn/T/ipykernel_5641/2207463218.py\u001b[0m in \u001b[0;36m<module>\u001b[0;34m\u001b[0m\n\u001b[1;32m     12\u001b[0m     \u001b[0mX\u001b[0m \u001b[0;34m=\u001b[0m \u001b[0mpd\u001b[0m\u001b[0;34m.\u001b[0m\u001b[0mread_csv\u001b[0m\u001b[0;34m(\u001b[0m\u001b[0;34mf'/Users/blagrave/Projects/IcePhenologyModels/Models/{file}_input.csv'\u001b[0m\u001b[0;34m)\u001b[0m\u001b[0;34m\u001b[0m\u001b[0;34m\u001b[0m\u001b[0m\n\u001b[1;32m     13\u001b[0m     \u001b[0mprint\u001b[0m\u001b[0;34m(\u001b[0m\u001b[0mX\u001b[0m\u001b[0;34m.\u001b[0m\u001b[0mshape\u001b[0m\u001b[0;34m,\u001b[0m \u001b[0mX\u001b[0m\u001b[0;34m.\u001b[0m\u001b[0mdrop_duplicates\u001b[0m\u001b[0;34m(\u001b[0m\u001b[0;34m[\u001b[0m\u001b[0;34m'Slope_100'\u001b[0m\u001b[0;34m,\u001b[0m\u001b[0;34m'Elevation'\u001b[0m\u001b[0;34m]\u001b[0m\u001b[0;34m)\u001b[0m\u001b[0;34m.\u001b[0m\u001b[0mshape\u001b[0m\u001b[0;34m)\u001b[0m\u001b[0;34m\u001b[0m\u001b[0;34m\u001b[0m\u001b[0m\n\u001b[0;32m---> 14\u001b[0;31m     \u001b[0mplot_partial_dependence\u001b[0m\u001b[0;34m(\u001b[0m\u001b[0mrf\u001b[0m\u001b[0;34m,\u001b[0m \u001b[0mX\u001b[0m\u001b[0;34m,\u001b[0m \u001b[0mcolumns\u001b[0m\u001b[0;34m,\u001b[0m \u001b[0mfilename\u001b[0m\u001b[0;34m=\u001b[0m\u001b[0;34mf'{file}_pdp'\u001b[0m\u001b[0;34m,\u001b[0m \u001b[0mstructured\u001b[0m\u001b[0;34m=\u001b[0m\u001b[0;32mTrue\u001b[0m\u001b[0;34m)\u001b[0m\u001b[0;34m\u001b[0m\u001b[0;34m\u001b[0m\u001b[0m\n\u001b[0m\u001b[1;32m     15\u001b[0m     \u001b[0;31m#break\u001b[0m\u001b[0;34m\u001b[0m\u001b[0;34m\u001b[0m\u001b[0;34m\u001b[0m\u001b[0m\n",
      "\u001b[0;32m/var/folders/sd/xlwt40n56h1f5l08cxsb644r0000gn/T/ipykernel_5641/2614331555.py\u001b[0m in \u001b[0;36mplot_partial_dependence\u001b[0;34m(rf, X, features, filename, nrows, ncols, structured, fig_width)\u001b[0m\n\u001b[1;32m     53\u001b[0m     \u001b[0mcmap\u001b[0m \u001b[0;34m=\u001b[0m \u001b[0mmatplotlib\u001b[0m\u001b[0;34m.\u001b[0m\u001b[0mcm\u001b[0m\u001b[0;34m.\u001b[0m\u001b[0mviridis\u001b[0m\u001b[0;34m\u001b[0m\u001b[0;34m\u001b[0m\u001b[0m\n\u001b[1;32m     54\u001b[0m     \u001b[0mnorm\u001b[0m \u001b[0;34m=\u001b[0m \u001b[0mmatplotlib\u001b[0m\u001b[0;34m.\u001b[0m\u001b[0mcolors\u001b[0m\u001b[0;34m.\u001b[0m\u001b[0mBoundaryNorm\u001b[0m\u001b[0;34m(\u001b[0m\u001b[0mbounds\u001b[0m\u001b[0;34m,\u001b[0m \u001b[0mcmap\u001b[0m\u001b[0;34m.\u001b[0m\u001b[0mN\u001b[0m\u001b[0;34m,\u001b[0m \u001b[0mextend\u001b[0m\u001b[0;34m=\u001b[0m\u001b[0;34m'both'\u001b[0m\u001b[0;34m)\u001b[0m\u001b[0;34m\u001b[0m\u001b[0;34m\u001b[0m\u001b[0m\n\u001b[0;32m---> 55\u001b[0;31m     pdp_display = PartialDependenceDisplay.from_estimator(rf,X,features=features,\n\u001b[0m\u001b[1;32m     56\u001b[0m                                                           \u001b[0mline_kw\u001b[0m \u001b[0;34m=\u001b[0m \u001b[0mdict\u001b[0m\u001b[0;34m(\u001b[0m\u001b[0mcolor\u001b[0m\u001b[0;34m=\u001b[0m\u001b[0;34m'k'\u001b[0m\u001b[0;34m)\u001b[0m\u001b[0;34m,\u001b[0m\u001b[0;34m\u001b[0m\u001b[0;34m\u001b[0m\u001b[0m\n\u001b[1;32m     57\u001b[0m \u001b[0;34m\u001b[0m\u001b[0m\n",
      "\u001b[0;32m~/.virtualenvs/icemodels/lib/python3.8/site-packages/sklearn/inspection/_plot/partial_dependence.py\u001b[0m in \u001b[0;36mfrom_estimator\u001b[0;34m(cls, estimator, X, features, feature_names, target, response_method, n_cols, grid_resolution, percentiles, method, n_jobs, verbose, line_kw, ice_lines_kw, pd_line_kw, contour_kw, ax, kind, subsample, random_state)\u001b[0m\n\u001b[1;32m    911\u001b[0m         \"\"\"\n\u001b[1;32m    912\u001b[0m         \u001b[0mcheck_matplotlib_support\u001b[0m\u001b[0;34m(\u001b[0m\u001b[0;34mf\"{cls.__name__}.from_estimator\"\u001b[0m\u001b[0;34m)\u001b[0m  \u001b[0;31m# noqa\u001b[0m\u001b[0;34m\u001b[0m\u001b[0;34m\u001b[0m\u001b[0m\n\u001b[0;32m--> 913\u001b[0;31m         return _plot_partial_dependence(\n\u001b[0m\u001b[1;32m    914\u001b[0m             \u001b[0mestimator\u001b[0m\u001b[0;34m,\u001b[0m\u001b[0;34m\u001b[0m\u001b[0;34m\u001b[0m\u001b[0m\n\u001b[1;32m    915\u001b[0m             \u001b[0mX\u001b[0m\u001b[0;34m,\u001b[0m\u001b[0;34m\u001b[0m\u001b[0;34m\u001b[0m\u001b[0m\n",
      "\u001b[0;32m~/.virtualenvs/icemodels/lib/python3.8/site-packages/sklearn/inspection/_plot/partial_dependence.py\u001b[0m in \u001b[0;36m_plot_partial_dependence\u001b[0;34m(estimator, X, features, feature_names, target, response_method, n_cols, grid_resolution, percentiles, method, n_jobs, verbose, line_kw, ice_lines_kw, pd_line_kw, contour_kw, ax, kind, subsample, random_state)\u001b[0m\n\u001b[1;32m    434\u001b[0m \u001b[0;34m\u001b[0m\u001b[0m\n\u001b[1;32m    435\u001b[0m     \u001b[0;31m# compute predictions and/or averaged predictions\u001b[0m\u001b[0;34m\u001b[0m\u001b[0;34m\u001b[0m\u001b[0;34m\u001b[0m\u001b[0m\n\u001b[0;32m--> 436\u001b[0;31m     pd_results = Parallel(n_jobs=n_jobs, verbose=verbose)(\n\u001b[0m\u001b[1;32m    437\u001b[0m         delayed(partial_dependence)(\n\u001b[1;32m    438\u001b[0m             \u001b[0mestimator\u001b[0m\u001b[0;34m,\u001b[0m\u001b[0;34m\u001b[0m\u001b[0;34m\u001b[0m\u001b[0m\n",
      "\u001b[0;32m~/.virtualenvs/icemodels/lib/python3.8/site-packages/joblib/parallel.py\u001b[0m in \u001b[0;36m__call__\u001b[0;34m(self, iterable)\u001b[0m\n\u001b[1;32m   1044\u001b[0m                 \u001b[0mself\u001b[0m\u001b[0;34m.\u001b[0m\u001b[0m_iterating\u001b[0m \u001b[0;34m=\u001b[0m \u001b[0mself\u001b[0m\u001b[0;34m.\u001b[0m\u001b[0m_original_iterator\u001b[0m \u001b[0;32mis\u001b[0m \u001b[0;32mnot\u001b[0m \u001b[0;32mNone\u001b[0m\u001b[0;34m\u001b[0m\u001b[0;34m\u001b[0m\u001b[0m\n\u001b[1;32m   1045\u001b[0m \u001b[0;34m\u001b[0m\u001b[0m\n\u001b[0;32m-> 1046\u001b[0;31m             \u001b[0;32mwhile\u001b[0m \u001b[0mself\u001b[0m\u001b[0;34m.\u001b[0m\u001b[0mdispatch_one_batch\u001b[0m\u001b[0;34m(\u001b[0m\u001b[0miterator\u001b[0m\u001b[0;34m)\u001b[0m\u001b[0;34m:\u001b[0m\u001b[0;34m\u001b[0m\u001b[0;34m\u001b[0m\u001b[0m\n\u001b[0m\u001b[1;32m   1047\u001b[0m                 \u001b[0;32mpass\u001b[0m\u001b[0;34m\u001b[0m\u001b[0;34m\u001b[0m\u001b[0m\n\u001b[1;32m   1048\u001b[0m \u001b[0;34m\u001b[0m\u001b[0m\n",
      "\u001b[0;32m~/.virtualenvs/icemodels/lib/python3.8/site-packages/joblib/parallel.py\u001b[0m in \u001b[0;36mdispatch_one_batch\u001b[0;34m(self, iterator)\u001b[0m\n\u001b[1;32m    859\u001b[0m                 \u001b[0;32mreturn\u001b[0m \u001b[0;32mFalse\u001b[0m\u001b[0;34m\u001b[0m\u001b[0;34m\u001b[0m\u001b[0m\n\u001b[1;32m    860\u001b[0m             \u001b[0;32melse\u001b[0m\u001b[0;34m:\u001b[0m\u001b[0;34m\u001b[0m\u001b[0;34m\u001b[0m\u001b[0m\n\u001b[0;32m--> 861\u001b[0;31m                 \u001b[0mself\u001b[0m\u001b[0;34m.\u001b[0m\u001b[0m_dispatch\u001b[0m\u001b[0;34m(\u001b[0m\u001b[0mtasks\u001b[0m\u001b[0;34m)\u001b[0m\u001b[0;34m\u001b[0m\u001b[0;34m\u001b[0m\u001b[0m\n\u001b[0m\u001b[1;32m    862\u001b[0m                 \u001b[0;32mreturn\u001b[0m \u001b[0;32mTrue\u001b[0m\u001b[0;34m\u001b[0m\u001b[0;34m\u001b[0m\u001b[0m\n\u001b[1;32m    863\u001b[0m \u001b[0;34m\u001b[0m\u001b[0m\n",
      "\u001b[0;32m~/.virtualenvs/icemodels/lib/python3.8/site-packages/joblib/parallel.py\u001b[0m in \u001b[0;36m_dispatch\u001b[0;34m(self, batch)\u001b[0m\n\u001b[1;32m    777\u001b[0m         \u001b[0;32mwith\u001b[0m \u001b[0mself\u001b[0m\u001b[0;34m.\u001b[0m\u001b[0m_lock\u001b[0m\u001b[0;34m:\u001b[0m\u001b[0;34m\u001b[0m\u001b[0;34m\u001b[0m\u001b[0m\n\u001b[1;32m    778\u001b[0m             \u001b[0mjob_idx\u001b[0m \u001b[0;34m=\u001b[0m \u001b[0mlen\u001b[0m\u001b[0;34m(\u001b[0m\u001b[0mself\u001b[0m\u001b[0;34m.\u001b[0m\u001b[0m_jobs\u001b[0m\u001b[0;34m)\u001b[0m\u001b[0;34m\u001b[0m\u001b[0;34m\u001b[0m\u001b[0m\n\u001b[0;32m--> 779\u001b[0;31m             \u001b[0mjob\u001b[0m \u001b[0;34m=\u001b[0m \u001b[0mself\u001b[0m\u001b[0;34m.\u001b[0m\u001b[0m_backend\u001b[0m\u001b[0;34m.\u001b[0m\u001b[0mapply_async\u001b[0m\u001b[0;34m(\u001b[0m\u001b[0mbatch\u001b[0m\u001b[0;34m,\u001b[0m \u001b[0mcallback\u001b[0m\u001b[0;34m=\u001b[0m\u001b[0mcb\u001b[0m\u001b[0;34m)\u001b[0m\u001b[0;34m\u001b[0m\u001b[0;34m\u001b[0m\u001b[0m\n\u001b[0m\u001b[1;32m    780\u001b[0m             \u001b[0;31m# A job can complete so quickly than its callback is\u001b[0m\u001b[0;34m\u001b[0m\u001b[0;34m\u001b[0m\u001b[0;34m\u001b[0m\u001b[0m\n\u001b[1;32m    781\u001b[0m             \u001b[0;31m# called before we get here, causing self._jobs to\u001b[0m\u001b[0;34m\u001b[0m\u001b[0;34m\u001b[0m\u001b[0;34m\u001b[0m\u001b[0m\n",
      "\u001b[0;32m~/.virtualenvs/icemodels/lib/python3.8/site-packages/joblib/_parallel_backends.py\u001b[0m in \u001b[0;36mapply_async\u001b[0;34m(self, func, callback)\u001b[0m\n\u001b[1;32m    206\u001b[0m     \u001b[0;32mdef\u001b[0m \u001b[0mapply_async\u001b[0m\u001b[0;34m(\u001b[0m\u001b[0mself\u001b[0m\u001b[0;34m,\u001b[0m \u001b[0mfunc\u001b[0m\u001b[0;34m,\u001b[0m \u001b[0mcallback\u001b[0m\u001b[0;34m=\u001b[0m\u001b[0;32mNone\u001b[0m\u001b[0;34m)\u001b[0m\u001b[0;34m:\u001b[0m\u001b[0;34m\u001b[0m\u001b[0;34m\u001b[0m\u001b[0m\n\u001b[1;32m    207\u001b[0m         \u001b[0;34m\"\"\"Schedule a func to be run\"\"\"\u001b[0m\u001b[0;34m\u001b[0m\u001b[0;34m\u001b[0m\u001b[0m\n\u001b[0;32m--> 208\u001b[0;31m         \u001b[0mresult\u001b[0m \u001b[0;34m=\u001b[0m \u001b[0mImmediateResult\u001b[0m\u001b[0;34m(\u001b[0m\u001b[0mfunc\u001b[0m\u001b[0;34m)\u001b[0m\u001b[0;34m\u001b[0m\u001b[0;34m\u001b[0m\u001b[0m\n\u001b[0m\u001b[1;32m    209\u001b[0m         \u001b[0;32mif\u001b[0m \u001b[0mcallback\u001b[0m\u001b[0;34m:\u001b[0m\u001b[0;34m\u001b[0m\u001b[0;34m\u001b[0m\u001b[0m\n\u001b[1;32m    210\u001b[0m             \u001b[0mcallback\u001b[0m\u001b[0;34m(\u001b[0m\u001b[0mresult\u001b[0m\u001b[0;34m)\u001b[0m\u001b[0;34m\u001b[0m\u001b[0;34m\u001b[0m\u001b[0m\n",
      "\u001b[0;32m~/.virtualenvs/icemodels/lib/python3.8/site-packages/joblib/_parallel_backends.py\u001b[0m in \u001b[0;36m__init__\u001b[0;34m(self, batch)\u001b[0m\n\u001b[1;32m    570\u001b[0m         \u001b[0;31m# Don't delay the application, to avoid keeping the input\u001b[0m\u001b[0;34m\u001b[0m\u001b[0;34m\u001b[0m\u001b[0;34m\u001b[0m\u001b[0m\n\u001b[1;32m    571\u001b[0m         \u001b[0;31m# arguments in memory\u001b[0m\u001b[0;34m\u001b[0m\u001b[0;34m\u001b[0m\u001b[0;34m\u001b[0m\u001b[0m\n\u001b[0;32m--> 572\u001b[0;31m         \u001b[0mself\u001b[0m\u001b[0;34m.\u001b[0m\u001b[0mresults\u001b[0m \u001b[0;34m=\u001b[0m \u001b[0mbatch\u001b[0m\u001b[0;34m(\u001b[0m\u001b[0;34m)\u001b[0m\u001b[0;34m\u001b[0m\u001b[0;34m\u001b[0m\u001b[0m\n\u001b[0m\u001b[1;32m    573\u001b[0m \u001b[0;34m\u001b[0m\u001b[0m\n\u001b[1;32m    574\u001b[0m     \u001b[0;32mdef\u001b[0m \u001b[0mget\u001b[0m\u001b[0;34m(\u001b[0m\u001b[0mself\u001b[0m\u001b[0;34m)\u001b[0m\u001b[0;34m:\u001b[0m\u001b[0;34m\u001b[0m\u001b[0;34m\u001b[0m\u001b[0m\n",
      "\u001b[0;32m~/.virtualenvs/icemodels/lib/python3.8/site-packages/joblib/parallel.py\u001b[0m in \u001b[0;36m__call__\u001b[0;34m(self)\u001b[0m\n\u001b[1;32m    260\u001b[0m         \u001b[0;31m# change the default number of processes to -1\u001b[0m\u001b[0;34m\u001b[0m\u001b[0;34m\u001b[0m\u001b[0;34m\u001b[0m\u001b[0m\n\u001b[1;32m    261\u001b[0m         \u001b[0;32mwith\u001b[0m \u001b[0mparallel_backend\u001b[0m\u001b[0;34m(\u001b[0m\u001b[0mself\u001b[0m\u001b[0;34m.\u001b[0m\u001b[0m_backend\u001b[0m\u001b[0;34m,\u001b[0m \u001b[0mn_jobs\u001b[0m\u001b[0;34m=\u001b[0m\u001b[0mself\u001b[0m\u001b[0;34m.\u001b[0m\u001b[0m_n_jobs\u001b[0m\u001b[0;34m)\u001b[0m\u001b[0;34m:\u001b[0m\u001b[0;34m\u001b[0m\u001b[0;34m\u001b[0m\u001b[0m\n\u001b[0;32m--> 262\u001b[0;31m             return [func(*args, **kwargs)\n\u001b[0m\u001b[1;32m    263\u001b[0m                     for func, args, kwargs in self.items]\n\u001b[1;32m    264\u001b[0m \u001b[0;34m\u001b[0m\u001b[0m\n",
      "\u001b[0;32m~/.virtualenvs/icemodels/lib/python3.8/site-packages/joblib/parallel.py\u001b[0m in \u001b[0;36m<listcomp>\u001b[0;34m(.0)\u001b[0m\n\u001b[1;32m    260\u001b[0m         \u001b[0;31m# change the default number of processes to -1\u001b[0m\u001b[0;34m\u001b[0m\u001b[0;34m\u001b[0m\u001b[0;34m\u001b[0m\u001b[0m\n\u001b[1;32m    261\u001b[0m         \u001b[0;32mwith\u001b[0m \u001b[0mparallel_backend\u001b[0m\u001b[0;34m(\u001b[0m\u001b[0mself\u001b[0m\u001b[0;34m.\u001b[0m\u001b[0m_backend\u001b[0m\u001b[0;34m,\u001b[0m \u001b[0mn_jobs\u001b[0m\u001b[0;34m=\u001b[0m\u001b[0mself\u001b[0m\u001b[0;34m.\u001b[0m\u001b[0m_n_jobs\u001b[0m\u001b[0;34m)\u001b[0m\u001b[0;34m:\u001b[0m\u001b[0;34m\u001b[0m\u001b[0;34m\u001b[0m\u001b[0m\n\u001b[0;32m--> 262\u001b[0;31m             return [func(*args, **kwargs)\n\u001b[0m\u001b[1;32m    263\u001b[0m                     for func, args, kwargs in self.items]\n\u001b[1;32m    264\u001b[0m \u001b[0;34m\u001b[0m\u001b[0m\n",
      "\u001b[0;32m~/.virtualenvs/icemodels/lib/python3.8/site-packages/sklearn/utils/fixes.py\u001b[0m in \u001b[0;36m__call__\u001b[0;34m(self, *args, **kwargs)\u001b[0m\n\u001b[1;32m    209\u001b[0m     \u001b[0;32mdef\u001b[0m \u001b[0m__call__\u001b[0m\u001b[0;34m(\u001b[0m\u001b[0mself\u001b[0m\u001b[0;34m,\u001b[0m \u001b[0;34m*\u001b[0m\u001b[0margs\u001b[0m\u001b[0;34m,\u001b[0m \u001b[0;34m**\u001b[0m\u001b[0mkwargs\u001b[0m\u001b[0;34m)\u001b[0m\u001b[0;34m:\u001b[0m\u001b[0;34m\u001b[0m\u001b[0;34m\u001b[0m\u001b[0m\n\u001b[1;32m    210\u001b[0m         \u001b[0;32mwith\u001b[0m \u001b[0mconfig_context\u001b[0m\u001b[0;34m(\u001b[0m\u001b[0;34m**\u001b[0m\u001b[0mself\u001b[0m\u001b[0;34m.\u001b[0m\u001b[0mconfig\u001b[0m\u001b[0;34m)\u001b[0m\u001b[0;34m:\u001b[0m\u001b[0;34m\u001b[0m\u001b[0;34m\u001b[0m\u001b[0m\n\u001b[0;32m--> 211\u001b[0;31m             \u001b[0;32mreturn\u001b[0m \u001b[0mself\u001b[0m\u001b[0;34m.\u001b[0m\u001b[0mfunction\u001b[0m\u001b[0;34m(\u001b[0m\u001b[0;34m*\u001b[0m\u001b[0margs\u001b[0m\u001b[0;34m,\u001b[0m \u001b[0;34m**\u001b[0m\u001b[0mkwargs\u001b[0m\u001b[0;34m)\u001b[0m\u001b[0;34m\u001b[0m\u001b[0;34m\u001b[0m\u001b[0m\n\u001b[0m\u001b[1;32m    212\u001b[0m \u001b[0;34m\u001b[0m\u001b[0m\n\u001b[1;32m    213\u001b[0m \u001b[0;34m\u001b[0m\u001b[0m\n",
      "\u001b[0;32m~/.virtualenvs/icemodels/lib/python3.8/site-packages/sklearn/inspection/_partial_dependence.py\u001b[0m in \u001b[0;36mpartial_dependence\u001b[0;34m(estimator, X, features, response_method, percentiles, grid_resolution, method, kind)\u001b[0m\n\u001b[1;32m    505\u001b[0m         )\n\u001b[1;32m    506\u001b[0m     \u001b[0;32melse\u001b[0m\u001b[0;34m:\u001b[0m\u001b[0;34m\u001b[0m\u001b[0;34m\u001b[0m\u001b[0m\n\u001b[0;32m--> 507\u001b[0;31m         averaged_predictions = _partial_dependence_recursion(\n\u001b[0m\u001b[1;32m    508\u001b[0m             \u001b[0mestimator\u001b[0m\u001b[0;34m,\u001b[0m \u001b[0mgrid\u001b[0m\u001b[0;34m,\u001b[0m \u001b[0mfeatures_indices\u001b[0m\u001b[0;34m\u001b[0m\u001b[0;34m\u001b[0m\u001b[0m\n\u001b[1;32m    509\u001b[0m         )\n",
      "\u001b[0;32m~/.virtualenvs/icemodels/lib/python3.8/site-packages/sklearn/inspection/_partial_dependence.py\u001b[0m in \u001b[0;36m_partial_dependence_recursion\u001b[0;34m(est, grid, features)\u001b[0m\n\u001b[1;32m    109\u001b[0m \u001b[0;34m\u001b[0m\u001b[0m\n\u001b[1;32m    110\u001b[0m \u001b[0;32mdef\u001b[0m \u001b[0m_partial_dependence_recursion\u001b[0m\u001b[0;34m(\u001b[0m\u001b[0mest\u001b[0m\u001b[0;34m,\u001b[0m \u001b[0mgrid\u001b[0m\u001b[0;34m,\u001b[0m \u001b[0mfeatures\u001b[0m\u001b[0;34m)\u001b[0m\u001b[0;34m:\u001b[0m\u001b[0;34m\u001b[0m\u001b[0;34m\u001b[0m\u001b[0m\n\u001b[0;32m--> 111\u001b[0;31m     \u001b[0maveraged_predictions\u001b[0m \u001b[0;34m=\u001b[0m \u001b[0mest\u001b[0m\u001b[0;34m.\u001b[0m\u001b[0m_compute_partial_dependence_recursion\u001b[0m\u001b[0;34m(\u001b[0m\u001b[0mgrid\u001b[0m\u001b[0;34m,\u001b[0m \u001b[0mfeatures\u001b[0m\u001b[0;34m)\u001b[0m\u001b[0;34m\u001b[0m\u001b[0;34m\u001b[0m\u001b[0m\n\u001b[0m\u001b[1;32m    112\u001b[0m     \u001b[0;32mif\u001b[0m \u001b[0maveraged_predictions\u001b[0m\u001b[0;34m.\u001b[0m\u001b[0mndim\u001b[0m \u001b[0;34m==\u001b[0m \u001b[0;36m1\u001b[0m\u001b[0;34m:\u001b[0m\u001b[0;34m\u001b[0m\u001b[0;34m\u001b[0m\u001b[0m\n\u001b[1;32m    113\u001b[0m         \u001b[0;31m# reshape to (1, n_points) for consistency with\u001b[0m\u001b[0;34m\u001b[0m\u001b[0;34m\u001b[0m\u001b[0;34m\u001b[0m\u001b[0m\n",
      "\u001b[0;32m~/.virtualenvs/icemodels/lib/python3.8/site-packages/sklearn/ensemble/_forest.py\u001b[0m in \u001b[0;36m_compute_partial_dependence_recursion\u001b[0;34m(self, grid, target_features)\u001b[0m\n\u001b[1;32m   1051\u001b[0m             \u001b[0;31m# Note: we don't sum in parallel because the GIL isn't released in\u001b[0m\u001b[0;34m\u001b[0m\u001b[0;34m\u001b[0m\u001b[0;34m\u001b[0m\u001b[0m\n\u001b[1;32m   1052\u001b[0m             \u001b[0;31m# the fast method.\u001b[0m\u001b[0;34m\u001b[0m\u001b[0;34m\u001b[0m\u001b[0;34m\u001b[0m\u001b[0m\n\u001b[0;32m-> 1053\u001b[0;31m             tree.tree_.compute_partial_dependence(\n\u001b[0m\u001b[1;32m   1054\u001b[0m                 \u001b[0mgrid\u001b[0m\u001b[0;34m,\u001b[0m \u001b[0mtarget_features\u001b[0m\u001b[0;34m,\u001b[0m \u001b[0maveraged_predictions\u001b[0m\u001b[0;34m\u001b[0m\u001b[0;34m\u001b[0m\u001b[0m\n\u001b[1;32m   1055\u001b[0m             )\n",
      "\u001b[0;31mKeyboardInterrupt\u001b[0m: "
     ]
    },
    {
     "name": "stdout",
     "output_type": "stream",
     "text": [
      "Error in callback <function flush_figures at 0x11bdf4700> (for post_execute):\n"
     ]
    },
    {
     "ename": "KeyboardInterrupt",
     "evalue": "",
     "output_type": "error",
     "traceback": [
      "\u001b[0;31m---------------------------------------------------------------------------\u001b[0m",
      "\u001b[0;31mKeyboardInterrupt\u001b[0m                         Traceback (most recent call last)",
      "\u001b[0;32m~/.virtualenvs/icemodels/lib/python3.8/site-packages/matplotlib_inline/backend_inline.py\u001b[0m in \u001b[0;36mflush_figures\u001b[0;34m()\u001b[0m\n\u001b[1;32m    119\u001b[0m         \u001b[0;31m# ignore the tracking, just draw and close all figures\u001b[0m\u001b[0;34m\u001b[0m\u001b[0;34m\u001b[0m\u001b[0;34m\u001b[0m\u001b[0m\n\u001b[1;32m    120\u001b[0m         \u001b[0;32mtry\u001b[0m\u001b[0;34m:\u001b[0m\u001b[0;34m\u001b[0m\u001b[0;34m\u001b[0m\u001b[0m\n\u001b[0;32m--> 121\u001b[0;31m             \u001b[0;32mreturn\u001b[0m \u001b[0mshow\u001b[0m\u001b[0;34m(\u001b[0m\u001b[0;32mTrue\u001b[0m\u001b[0;34m)\u001b[0m\u001b[0;34m\u001b[0m\u001b[0;34m\u001b[0m\u001b[0m\n\u001b[0m\u001b[1;32m    122\u001b[0m         \u001b[0;32mexcept\u001b[0m \u001b[0mException\u001b[0m \u001b[0;32mas\u001b[0m \u001b[0me\u001b[0m\u001b[0;34m:\u001b[0m\u001b[0;34m\u001b[0m\u001b[0;34m\u001b[0m\u001b[0m\n\u001b[1;32m    123\u001b[0m             \u001b[0;31m# safely show traceback if in IPython, else raise\u001b[0m\u001b[0;34m\u001b[0m\u001b[0;34m\u001b[0m\u001b[0;34m\u001b[0m\u001b[0m\n",
      "\u001b[0;32m~/.virtualenvs/icemodels/lib/python3.8/site-packages/matplotlib_inline/backend_inline.py\u001b[0m in \u001b[0;36mshow\u001b[0;34m(close, block)\u001b[0m\n\u001b[1;32m     41\u001b[0m             display(\n\u001b[1;32m     42\u001b[0m                 \u001b[0mfigure_manager\u001b[0m\u001b[0;34m.\u001b[0m\u001b[0mcanvas\u001b[0m\u001b[0;34m.\u001b[0m\u001b[0mfigure\u001b[0m\u001b[0;34m,\u001b[0m\u001b[0;34m\u001b[0m\u001b[0;34m\u001b[0m\u001b[0m\n\u001b[0;32m---> 43\u001b[0;31m                 \u001b[0mmetadata\u001b[0m\u001b[0;34m=\u001b[0m\u001b[0m_fetch_figure_metadata\u001b[0m\u001b[0;34m(\u001b[0m\u001b[0mfigure_manager\u001b[0m\u001b[0;34m.\u001b[0m\u001b[0mcanvas\u001b[0m\u001b[0;34m.\u001b[0m\u001b[0mfigure\u001b[0m\u001b[0;34m)\u001b[0m\u001b[0;34m\u001b[0m\u001b[0;34m\u001b[0m\u001b[0m\n\u001b[0m\u001b[1;32m     44\u001b[0m             )\n\u001b[1;32m     45\u001b[0m     \u001b[0;32mfinally\u001b[0m\u001b[0;34m:\u001b[0m\u001b[0;34m\u001b[0m\u001b[0;34m\u001b[0m\u001b[0m\n",
      "\u001b[0;32m~/.virtualenvs/icemodels/lib/python3.8/site-packages/matplotlib_inline/backend_inline.py\u001b[0m in \u001b[0;36m_fetch_figure_metadata\u001b[0;34m(fig)\u001b[0m\n\u001b[1;32m    229\u001b[0m     \u001b[0;32mif\u001b[0m \u001b[0m_is_transparent\u001b[0m\u001b[0;34m(\u001b[0m\u001b[0mfig\u001b[0m\u001b[0;34m.\u001b[0m\u001b[0mget_facecolor\u001b[0m\u001b[0;34m(\u001b[0m\u001b[0;34m)\u001b[0m\u001b[0;34m)\u001b[0m\u001b[0;34m:\u001b[0m\u001b[0;34m\u001b[0m\u001b[0;34m\u001b[0m\u001b[0m\n\u001b[1;32m    230\u001b[0m         \u001b[0;31m# the background is transparent\u001b[0m\u001b[0;34m\u001b[0m\u001b[0;34m\u001b[0m\u001b[0;34m\u001b[0m\u001b[0m\n\u001b[0;32m--> 231\u001b[0;31m         ticksLight = _is_light([label.get_color()\n\u001b[0m\u001b[1;32m    232\u001b[0m                                 \u001b[0;32mfor\u001b[0m \u001b[0maxes\u001b[0m \u001b[0;32min\u001b[0m \u001b[0mfig\u001b[0m\u001b[0;34m.\u001b[0m\u001b[0maxes\u001b[0m\u001b[0;34m\u001b[0m\u001b[0;34m\u001b[0m\u001b[0m\n\u001b[1;32m    233\u001b[0m                                 \u001b[0;32mfor\u001b[0m \u001b[0maxis\u001b[0m \u001b[0;32min\u001b[0m \u001b[0;34m(\u001b[0m\u001b[0maxes\u001b[0m\u001b[0;34m.\u001b[0m\u001b[0mxaxis\u001b[0m\u001b[0;34m,\u001b[0m \u001b[0maxes\u001b[0m\u001b[0;34m.\u001b[0m\u001b[0myaxis\u001b[0m\u001b[0;34m)\u001b[0m\u001b[0;34m\u001b[0m\u001b[0;34m\u001b[0m\u001b[0m\n",
      "\u001b[0;32m~/.virtualenvs/icemodels/lib/python3.8/site-packages/matplotlib_inline/backend_inline.py\u001b[0m in \u001b[0;36m<listcomp>\u001b[0;34m(.0)\u001b[0m\n\u001b[1;32m    232\u001b[0m                                 \u001b[0;32mfor\u001b[0m \u001b[0maxes\u001b[0m \u001b[0;32min\u001b[0m \u001b[0mfig\u001b[0m\u001b[0;34m.\u001b[0m\u001b[0maxes\u001b[0m\u001b[0;34m\u001b[0m\u001b[0;34m\u001b[0m\u001b[0m\n\u001b[1;32m    233\u001b[0m                                 \u001b[0;32mfor\u001b[0m \u001b[0maxis\u001b[0m \u001b[0;32min\u001b[0m \u001b[0;34m(\u001b[0m\u001b[0maxes\u001b[0m\u001b[0;34m.\u001b[0m\u001b[0mxaxis\u001b[0m\u001b[0;34m,\u001b[0m \u001b[0maxes\u001b[0m\u001b[0;34m.\u001b[0m\u001b[0myaxis\u001b[0m\u001b[0;34m)\u001b[0m\u001b[0;34m\u001b[0m\u001b[0;34m\u001b[0m\u001b[0m\n\u001b[0;32m--> 234\u001b[0;31m                                 for label in axis.get_ticklabels()])\n\u001b[0m\u001b[1;32m    235\u001b[0m         \u001b[0;32mif\u001b[0m \u001b[0mticksLight\u001b[0m\u001b[0;34m.\u001b[0m\u001b[0msize\u001b[0m \u001b[0;32mand\u001b[0m \u001b[0;34m(\u001b[0m\u001b[0mticksLight\u001b[0m \u001b[0;34m==\u001b[0m \u001b[0mticksLight\u001b[0m\u001b[0;34m[\u001b[0m\u001b[0;36m0\u001b[0m\u001b[0;34m]\u001b[0m\u001b[0;34m)\u001b[0m\u001b[0;34m.\u001b[0m\u001b[0mall\u001b[0m\u001b[0;34m(\u001b[0m\u001b[0;34m)\u001b[0m\u001b[0;34m:\u001b[0m\u001b[0;34m\u001b[0m\u001b[0;34m\u001b[0m\u001b[0m\n\u001b[1;32m    236\u001b[0m             \u001b[0;31m# there are one or more tick labels, all with the same lightness\u001b[0m\u001b[0;34m\u001b[0m\u001b[0;34m\u001b[0m\u001b[0;34m\u001b[0m\u001b[0m\n",
      "\u001b[0;32m~/.virtualenvs/icemodels/lib/python3.8/site-packages/matplotlib/axis.py\u001b[0m in \u001b[0;36mget_ticklabels\u001b[0;34m(self, minor, which)\u001b[0m\n\u001b[1;32m   1230\u001b[0m         \u001b[0;32mif\u001b[0m \u001b[0mminor\u001b[0m\u001b[0;34m:\u001b[0m\u001b[0;34m\u001b[0m\u001b[0;34m\u001b[0m\u001b[0m\n\u001b[1;32m   1231\u001b[0m             \u001b[0;32mreturn\u001b[0m \u001b[0mself\u001b[0m\u001b[0;34m.\u001b[0m\u001b[0mget_minorticklabels\u001b[0m\u001b[0;34m(\u001b[0m\u001b[0;34m)\u001b[0m\u001b[0;34m\u001b[0m\u001b[0;34m\u001b[0m\u001b[0m\n\u001b[0;32m-> 1232\u001b[0;31m         \u001b[0;32mreturn\u001b[0m \u001b[0mself\u001b[0m\u001b[0;34m.\u001b[0m\u001b[0mget_majorticklabels\u001b[0m\u001b[0;34m(\u001b[0m\u001b[0;34m)\u001b[0m\u001b[0;34m\u001b[0m\u001b[0;34m\u001b[0m\u001b[0m\n\u001b[0m\u001b[1;32m   1233\u001b[0m \u001b[0;34m\u001b[0m\u001b[0m\n\u001b[1;32m   1234\u001b[0m     \u001b[0;32mdef\u001b[0m \u001b[0mget_majorticklines\u001b[0m\u001b[0;34m(\u001b[0m\u001b[0mself\u001b[0m\u001b[0;34m)\u001b[0m\u001b[0;34m:\u001b[0m\u001b[0;34m\u001b[0m\u001b[0;34m\u001b[0m\u001b[0m\n",
      "\u001b[0;32m~/.virtualenvs/icemodels/lib/python3.8/site-packages/matplotlib/axis.py\u001b[0m in \u001b[0;36mget_majorticklabels\u001b[0;34m(self)\u001b[0m\n\u001b[1;32m   1182\u001b[0m     \u001b[0;32mdef\u001b[0m \u001b[0mget_majorticklabels\u001b[0m\u001b[0;34m(\u001b[0m\u001b[0mself\u001b[0m\u001b[0;34m)\u001b[0m\u001b[0;34m:\u001b[0m\u001b[0;34m\u001b[0m\u001b[0;34m\u001b[0m\u001b[0m\n\u001b[1;32m   1183\u001b[0m         \u001b[0;34m\"\"\"Return this Axis' major tick labels, as a list of `~.text.Text`.\"\"\"\u001b[0m\u001b[0;34m\u001b[0m\u001b[0;34m\u001b[0m\u001b[0m\n\u001b[0;32m-> 1184\u001b[0;31m         \u001b[0mticks\u001b[0m \u001b[0;34m=\u001b[0m \u001b[0mself\u001b[0m\u001b[0;34m.\u001b[0m\u001b[0mget_major_ticks\u001b[0m\u001b[0;34m(\u001b[0m\u001b[0;34m)\u001b[0m\u001b[0;34m\u001b[0m\u001b[0;34m\u001b[0m\u001b[0m\n\u001b[0m\u001b[1;32m   1185\u001b[0m         \u001b[0mlabels1\u001b[0m \u001b[0;34m=\u001b[0m \u001b[0;34m[\u001b[0m\u001b[0mtick\u001b[0m\u001b[0;34m.\u001b[0m\u001b[0mlabel1\u001b[0m \u001b[0;32mfor\u001b[0m \u001b[0mtick\u001b[0m \u001b[0;32min\u001b[0m \u001b[0mticks\u001b[0m \u001b[0;32mif\u001b[0m \u001b[0mtick\u001b[0m\u001b[0;34m.\u001b[0m\u001b[0mlabel1\u001b[0m\u001b[0;34m.\u001b[0m\u001b[0mget_visible\u001b[0m\u001b[0;34m(\u001b[0m\u001b[0;34m)\u001b[0m\u001b[0;34m]\u001b[0m\u001b[0;34m\u001b[0m\u001b[0;34m\u001b[0m\u001b[0m\n\u001b[1;32m   1186\u001b[0m         \u001b[0mlabels2\u001b[0m \u001b[0;34m=\u001b[0m \u001b[0;34m[\u001b[0m\u001b[0mtick\u001b[0m\u001b[0;34m.\u001b[0m\u001b[0mlabel2\u001b[0m \u001b[0;32mfor\u001b[0m \u001b[0mtick\u001b[0m \u001b[0;32min\u001b[0m \u001b[0mticks\u001b[0m \u001b[0;32mif\u001b[0m \u001b[0mtick\u001b[0m\u001b[0;34m.\u001b[0m\u001b[0mlabel2\u001b[0m\u001b[0;34m.\u001b[0m\u001b[0mget_visible\u001b[0m\u001b[0;34m(\u001b[0m\u001b[0;34m)\u001b[0m\u001b[0;34m]\u001b[0m\u001b[0;34m\u001b[0m\u001b[0;34m\u001b[0m\u001b[0m\n",
      "\u001b[0;32m~/.virtualenvs/icemodels/lib/python3.8/site-packages/matplotlib/axis.py\u001b[0m in \u001b[0;36mget_major_ticks\u001b[0;34m(self, numticks)\u001b[0m\n\u001b[1;32m   1357\u001b[0m         \u001b[0;32mwhile\u001b[0m \u001b[0mlen\u001b[0m\u001b[0;34m(\u001b[0m\u001b[0mself\u001b[0m\u001b[0;34m.\u001b[0m\u001b[0mmajorTicks\u001b[0m\u001b[0;34m)\u001b[0m \u001b[0;34m<\u001b[0m \u001b[0mnumticks\u001b[0m\u001b[0;34m:\u001b[0m\u001b[0;34m\u001b[0m\u001b[0;34m\u001b[0m\u001b[0m\n\u001b[1;32m   1358\u001b[0m             \u001b[0;31m# Update the new tick label properties from the old.\u001b[0m\u001b[0;34m\u001b[0m\u001b[0;34m\u001b[0m\u001b[0;34m\u001b[0m\u001b[0m\n\u001b[0;32m-> 1359\u001b[0;31m             \u001b[0mtick\u001b[0m \u001b[0;34m=\u001b[0m \u001b[0mself\u001b[0m\u001b[0;34m.\u001b[0m\u001b[0m_get_tick\u001b[0m\u001b[0;34m(\u001b[0m\u001b[0mmajor\u001b[0m\u001b[0;34m=\u001b[0m\u001b[0;32mTrue\u001b[0m\u001b[0;34m)\u001b[0m\u001b[0;34m\u001b[0m\u001b[0;34m\u001b[0m\u001b[0m\n\u001b[0m\u001b[1;32m   1360\u001b[0m             \u001b[0mself\u001b[0m\u001b[0;34m.\u001b[0m\u001b[0mmajorTicks\u001b[0m\u001b[0;34m.\u001b[0m\u001b[0mappend\u001b[0m\u001b[0;34m(\u001b[0m\u001b[0mtick\u001b[0m\u001b[0;34m)\u001b[0m\u001b[0;34m\u001b[0m\u001b[0;34m\u001b[0m\u001b[0m\n\u001b[1;32m   1361\u001b[0m             \u001b[0mself\u001b[0m\u001b[0;34m.\u001b[0m\u001b[0m_copy_tick_props\u001b[0m\u001b[0;34m(\u001b[0m\u001b[0mself\u001b[0m\u001b[0;34m.\u001b[0m\u001b[0mmajorTicks\u001b[0m\u001b[0;34m[\u001b[0m\u001b[0;36m0\u001b[0m\u001b[0;34m]\u001b[0m\u001b[0;34m,\u001b[0m \u001b[0mtick\u001b[0m\u001b[0;34m)\u001b[0m\u001b[0;34m\u001b[0m\u001b[0;34m\u001b[0m\u001b[0m\n",
      "\u001b[0;32m~/.virtualenvs/icemodels/lib/python3.8/site-packages/matplotlib/axis.py\u001b[0m in \u001b[0;36m_get_tick\u001b[0;34m(self, major)\u001b[0m\n\u001b[1;32m   2330\u001b[0m         \u001b[0;32melse\u001b[0m\u001b[0;34m:\u001b[0m\u001b[0;34m\u001b[0m\u001b[0;34m\u001b[0m\u001b[0m\n\u001b[1;32m   2331\u001b[0m             \u001b[0mtick_kw\u001b[0m \u001b[0;34m=\u001b[0m \u001b[0mself\u001b[0m\u001b[0;34m.\u001b[0m\u001b[0m_minor_tick_kw\u001b[0m\u001b[0;34m\u001b[0m\u001b[0;34m\u001b[0m\u001b[0m\n\u001b[0;32m-> 2332\u001b[0;31m         \u001b[0;32mreturn\u001b[0m \u001b[0mYTick\u001b[0m\u001b[0;34m(\u001b[0m\u001b[0mself\u001b[0m\u001b[0;34m.\u001b[0m\u001b[0maxes\u001b[0m\u001b[0;34m,\u001b[0m \u001b[0;36m0\u001b[0m\u001b[0;34m,\u001b[0m \u001b[0mmajor\u001b[0m\u001b[0;34m=\u001b[0m\u001b[0mmajor\u001b[0m\u001b[0;34m,\u001b[0m \u001b[0;34m**\u001b[0m\u001b[0mtick_kw\u001b[0m\u001b[0;34m)\u001b[0m\u001b[0;34m\u001b[0m\u001b[0;34m\u001b[0m\u001b[0m\n\u001b[0m\u001b[1;32m   2333\u001b[0m \u001b[0;34m\u001b[0m\u001b[0m\n\u001b[1;32m   2334\u001b[0m     \u001b[0;32mdef\u001b[0m \u001b[0mset_label_position\u001b[0m\u001b[0;34m(\u001b[0m\u001b[0mself\u001b[0m\u001b[0;34m,\u001b[0m \u001b[0mposition\u001b[0m\u001b[0;34m)\u001b[0m\u001b[0;34m:\u001b[0m\u001b[0;34m\u001b[0m\u001b[0;34m\u001b[0m\u001b[0m\n",
      "\u001b[0;32m~/.virtualenvs/icemodels/lib/python3.8/site-packages/matplotlib/axis.py\u001b[0m in \u001b[0;36m__init__\u001b[0;34m(self, *args, **kwargs)\u001b[0m\n\u001b[1;32m    485\u001b[0m \u001b[0;34m\u001b[0m\u001b[0m\n\u001b[1;32m    486\u001b[0m     \u001b[0;32mdef\u001b[0m \u001b[0m__init__\u001b[0m\u001b[0;34m(\u001b[0m\u001b[0mself\u001b[0m\u001b[0;34m,\u001b[0m \u001b[0;34m*\u001b[0m\u001b[0margs\u001b[0m\u001b[0;34m,\u001b[0m \u001b[0;34m**\u001b[0m\u001b[0mkwargs\u001b[0m\u001b[0;34m)\u001b[0m\u001b[0;34m:\u001b[0m\u001b[0;34m\u001b[0m\u001b[0;34m\u001b[0m\u001b[0m\n\u001b[0;32m--> 487\u001b[0;31m         \u001b[0msuper\u001b[0m\u001b[0;34m(\u001b[0m\u001b[0;34m)\u001b[0m\u001b[0;34m.\u001b[0m\u001b[0m__init__\u001b[0m\u001b[0;34m(\u001b[0m\u001b[0;34m*\u001b[0m\u001b[0margs\u001b[0m\u001b[0;34m,\u001b[0m \u001b[0;34m**\u001b[0m\u001b[0mkwargs\u001b[0m\u001b[0;34m)\u001b[0m\u001b[0;34m\u001b[0m\u001b[0;34m\u001b[0m\u001b[0m\n\u001b[0m\u001b[1;32m    488\u001b[0m         \u001b[0;31m# x in axes coords, y in data coords\u001b[0m\u001b[0;34m\u001b[0m\u001b[0;34m\u001b[0m\u001b[0;34m\u001b[0m\u001b[0m\n\u001b[1;32m    489\u001b[0m         self.tick1line.set(\n",
      "\u001b[0;32m~/.virtualenvs/icemodels/lib/python3.8/site-packages/matplotlib/_api/deprecation.py\u001b[0m in \u001b[0;36mwrapper\u001b[0;34m(*inner_args, **inner_kwargs)\u001b[0m\n\u001b[1;32m    429\u001b[0m                          \u001b[0;32melse\u001b[0m \u001b[0mdeprecation_addendum\u001b[0m\u001b[0;34m,\u001b[0m\u001b[0;34m\u001b[0m\u001b[0;34m\u001b[0m\u001b[0m\n\u001b[1;32m    430\u001b[0m                 **kwargs)\n\u001b[0;32m--> 431\u001b[0;31m         \u001b[0;32mreturn\u001b[0m \u001b[0mfunc\u001b[0m\u001b[0;34m(\u001b[0m\u001b[0;34m*\u001b[0m\u001b[0minner_args\u001b[0m\u001b[0;34m,\u001b[0m \u001b[0;34m**\u001b[0m\u001b[0minner_kwargs\u001b[0m\u001b[0;34m)\u001b[0m\u001b[0;34m\u001b[0m\u001b[0;34m\u001b[0m\u001b[0m\n\u001b[0m\u001b[1;32m    432\u001b[0m \u001b[0;34m\u001b[0m\u001b[0m\n\u001b[1;32m    433\u001b[0m     \u001b[0;32mreturn\u001b[0m \u001b[0mwrapper\u001b[0m\u001b[0;34m\u001b[0m\u001b[0;34m\u001b[0m\u001b[0m\n",
      "\u001b[0;32m~/.virtualenvs/icemodels/lib/python3.8/site-packages/matplotlib/axis.py\u001b[0m in \u001b[0;36m__init__\u001b[0;34m(self, axes, loc, label, size, width, color, tickdir, pad, labelsize, labelcolor, zorder, gridOn, tick1On, tick2On, label1On, label2On, major, labelrotation, grid_color, grid_linestyle, grid_linewidth, grid_alpha, **kw)\u001b[0m\n\u001b[1;32m    156\u001b[0m             \u001b[0mmarkeredgecolor\u001b[0m\u001b[0;34m=\u001b[0m\u001b[0mcolor\u001b[0m\u001b[0;34m,\u001b[0m \u001b[0mmarkersize\u001b[0m\u001b[0;34m=\u001b[0m\u001b[0msize\u001b[0m\u001b[0;34m,\u001b[0m \u001b[0mmarkeredgewidth\u001b[0m\u001b[0;34m=\u001b[0m\u001b[0mwidth\u001b[0m\u001b[0;34m,\u001b[0m\u001b[0;34m\u001b[0m\u001b[0;34m\u001b[0m\u001b[0m\n\u001b[1;32m    157\u001b[0m         )\n\u001b[0;32m--> 158\u001b[0;31m         self.tick2line = mlines.Line2D(\n\u001b[0m\u001b[1;32m    159\u001b[0m             \u001b[0;34m[\u001b[0m\u001b[0;34m]\u001b[0m\u001b[0;34m,\u001b[0m \u001b[0;34m[\u001b[0m\u001b[0;34m]\u001b[0m\u001b[0;34m,\u001b[0m\u001b[0;34m\u001b[0m\u001b[0;34m\u001b[0m\u001b[0m\n\u001b[1;32m    160\u001b[0m             \u001b[0mcolor\u001b[0m\u001b[0;34m=\u001b[0m\u001b[0mcolor\u001b[0m\u001b[0;34m,\u001b[0m \u001b[0mlinestyle\u001b[0m\u001b[0;34m=\u001b[0m\u001b[0;34m\"none\"\u001b[0m\u001b[0;34m,\u001b[0m \u001b[0mzorder\u001b[0m\u001b[0;34m=\u001b[0m\u001b[0mzorder\u001b[0m\u001b[0;34m,\u001b[0m \u001b[0mvisible\u001b[0m\u001b[0;34m=\u001b[0m\u001b[0mtick2On\u001b[0m\u001b[0;34m,\u001b[0m\u001b[0;34m\u001b[0m\u001b[0;34m\u001b[0m\u001b[0m\n",
      "\u001b[0;32m~/.virtualenvs/icemodels/lib/python3.8/site-packages/matplotlib/lines.py\u001b[0m in \u001b[0;36m__init__\u001b[0;34m(self, xdata, ydata, linewidth, linestyle, color, marker, markersize, markeredgewidth, markeredgecolor, markerfacecolor, markerfacecoloralt, fillstyle, antialiased, dash_capstyle, solid_capstyle, dash_joinstyle, solid_joinstyle, pickradius, drawstyle, markevery, **kwargs)\u001b[0m\n\u001b[1;32m    322\u001b[0m             \u001b[0mlinestyle\u001b[0m \u001b[0;34m=\u001b[0m \u001b[0mrcParams\u001b[0m\u001b[0;34m[\u001b[0m\u001b[0;34m'lines.linestyle'\u001b[0m\u001b[0;34m]\u001b[0m\u001b[0;34m\u001b[0m\u001b[0;34m\u001b[0m\u001b[0m\n\u001b[1;32m    323\u001b[0m         \u001b[0;32mif\u001b[0m \u001b[0mmarker\u001b[0m \u001b[0;32mis\u001b[0m \u001b[0;32mNone\u001b[0m\u001b[0;34m:\u001b[0m\u001b[0;34m\u001b[0m\u001b[0;34m\u001b[0m\u001b[0m\n\u001b[0;32m--> 324\u001b[0;31m             \u001b[0mmarker\u001b[0m \u001b[0;34m=\u001b[0m \u001b[0mrcParams\u001b[0m\u001b[0;34m[\u001b[0m\u001b[0;34m'lines.marker'\u001b[0m\u001b[0;34m]\u001b[0m\u001b[0;34m\u001b[0m\u001b[0;34m\u001b[0m\u001b[0m\n\u001b[0m\u001b[1;32m    325\u001b[0m         \u001b[0;32mif\u001b[0m \u001b[0mmarkerfacecolor\u001b[0m \u001b[0;32mis\u001b[0m \u001b[0;32mNone\u001b[0m\u001b[0;34m:\u001b[0m\u001b[0;34m\u001b[0m\u001b[0;34m\u001b[0m\u001b[0m\n\u001b[1;32m    326\u001b[0m             \u001b[0mmarkerfacecolor\u001b[0m \u001b[0;34m=\u001b[0m \u001b[0mrcParams\u001b[0m\u001b[0;34m[\u001b[0m\u001b[0;34m'lines.markerfacecolor'\u001b[0m\u001b[0;34m]\u001b[0m\u001b[0;34m\u001b[0m\u001b[0;34m\u001b[0m\u001b[0m\n",
      "\u001b[0;32m~/.virtualenvs/icemodels/lib/python3.8/site-packages/matplotlib/__init__.py\u001b[0m in \u001b[0;36m__getitem__\u001b[0;34m(self, key)\u001b[0m\n\u001b[1;32m    609\u001b[0m             \u001b[0;32mreturn\u001b[0m \u001b[0minverse_alt\u001b[0m\u001b[0;34m(\u001b[0m\u001b[0mdict\u001b[0m\u001b[0;34m.\u001b[0m\u001b[0m__getitem__\u001b[0m\u001b[0;34m(\u001b[0m\u001b[0mself\u001b[0m\u001b[0;34m,\u001b[0m \u001b[0malt_key\u001b[0m\u001b[0;34m)\u001b[0m\u001b[0;34m)\u001b[0m\u001b[0;34m\u001b[0m\u001b[0;34m\u001b[0m\u001b[0m\n\u001b[1;32m    610\u001b[0m \u001b[0;34m\u001b[0m\u001b[0m\n\u001b[0;32m--> 611\u001b[0;31m         \u001b[0;32melif\u001b[0m \u001b[0mkey\u001b[0m \u001b[0;32min\u001b[0m \u001b[0m_deprecated_ignore_map\u001b[0m\u001b[0;34m:\u001b[0m\u001b[0;34m\u001b[0m\u001b[0;34m\u001b[0m\u001b[0m\n\u001b[0m\u001b[1;32m    612\u001b[0m             \u001b[0mversion\u001b[0m\u001b[0;34m,\u001b[0m \u001b[0malt_key\u001b[0m \u001b[0;34m=\u001b[0m \u001b[0m_deprecated_ignore_map\u001b[0m\u001b[0;34m[\u001b[0m\u001b[0mkey\u001b[0m\u001b[0;34m]\u001b[0m\u001b[0;34m\u001b[0m\u001b[0;34m\u001b[0m\u001b[0m\n\u001b[1;32m    613\u001b[0m             _api.warn_deprecated(\n",
      "\u001b[0;31mKeyboardInterrupt\u001b[0m: "
     ]
    }
   ],
   "source": [
    "for file in ['rf_iceon_limited_seasonal_8params','rf_iceoff_limited_seasonal_6params']:\n",
    "    with open(f'/Users/blagrave/Projects/IcePhenologyModels/Models/{file}.pickle', 'rb') as f:\n",
    "        rf = pickle.load(f)\n",
    "    #display()\n",
    "    columns = pd.Series({i:j for i, j in zip(rf.feature_names_in_,rf.feature_importances_)}).sort_values(ascending=False)\n",
    "    display(columns)\n",
    "    print(rf.oob_score_)\n",
    "    columns = columns.index\n",
    "    #columns = columns[:3]\n",
    "    x,y = np.meshgrid(columns,columns)\n",
    "    columns = [(i,j) if (i!=j) else i for i,j in np.stack([x,y],axis=2).reshape((-1,2)).tolist()]\n",
    "    X = pd.read_csv(f'/Users/blagrave/Projects/IcePhenologyModels/Models/{file}_input.csv')\n",
    "    print(X.shape, X.drop_duplicates(['Slope_100','Elevation']).shape)\n",
    "    plot_partial_dependence(rf, X, columns, filename=f'{file}_pdp', structured=True)\n",
    "    #break"
   ]
  },
  {
   "cell_type": "code",
   "execution_count": 5,
   "metadata": {},
   "outputs": [
    {
     "name": "stdout",
     "output_type": "stream",
     "text": [
      "yes\n"
     ]
    }
   ],
   "source": [
    "if 'levels' in {'levels':2}:\n",
    "    print('yes')"
   ]
  },
  {
   "cell_type": "code",
   "execution_count": 64,
   "metadata": {},
   "outputs": [
    {
     "data": {
      "text/plain": [
       "(74, 6)"
      ]
     },
     "execution_count": 64,
     "metadata": {},
     "output_type": "execute_result"
    }
   ],
   "source": [
    "X.drop_duplicates(['Elevation','Slope_100']).shape"
   ]
  },
  {
   "cell_type": "code",
   "execution_count": null,
   "metadata": {},
   "outputs": [],
   "source": []
  }
 ],
 "metadata": {
  "kernelspec": {
   "display_name": "icemodels",
   "language": "python",
   "name": "icemodels"
  },
  "language_info": {
   "codemirror_mode": {
    "name": "ipython",
    "version": 3
   },
   "file_extension": ".py",
   "mimetype": "text/x-python",
   "name": "python",
   "nbconvert_exporter": "python",
   "pygments_lexer": "ipython3",
   "version": "3.8.5"
  }
 },
 "nbformat": 4,
 "nbformat_minor": 4
}
